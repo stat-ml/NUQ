{
 "cells": [
  {
   "cell_type": "code",
   "execution_count": 1,
   "id": "6ac1a8fc",
   "metadata": {},
   "outputs": [],
   "source": [
    "# show C-level stderr/stdout\n",
    "%load_ext lab_black\n",
    "%load_ext wurlitzer\n",
    "%load_ext autoreload\n",
    "%autoreload 2"
   ]
  },
  {
   "cell_type": "code",
   "execution_count": 2,
   "id": "e9e0741f",
   "metadata": {},
   "outputs": [],
   "source": [
    "import os\n",
    "import time\n",
    "import copy\n",
    "import math\n",
    "import matplotlib.pyplot as plt\n",
    "import seaborn as sns\n",
    "import pandas as pd\n",
    "import numpy as np\n",
    "import random\n",
    "\n",
    "from tqdm.notebook import tqdm"
   ]
  },
  {
   "cell_type": "code",
   "execution_count": 3,
   "id": "27784799",
   "metadata": {},
   "outputs": [],
   "source": [
    "import matplotlib\n",
    "from sklearn.datasets import make_blobs\n",
    "from sklearn.model_selection import train_test_split\n",
    "from nuq import NuqClassifier\n",
    "\n",
    "matplotlib.rcParams.update({\"font.size\": 12})\n",
    "\n",
    "\n",
    "def plot_data(X, y, title=None):\n",
    "    plt.close()\n",
    "    plt.figure()\n",
    "    if title:\n",
    "        plt.title(title)\n",
    "    plt.scatter(X[:, 0], X[:, 1], c=y)\n",
    "    plt.tight_layout()\n",
    "    plt.show()\n",
    "\n",
    "\n",
    "def make_data(total_size=5000, centers=np.array([[-4.0, -4.0], [0.0, 4.0]])):\n",
    "    X, y = make_blobs(n_samples=total_size, n_features=2, centers=centers)\n",
    "    return X, y"
   ]
  },
  {
   "cell_type": "code",
   "execution_count": 4,
   "id": "73c31553-77a7-4741-9702-09fcfb6e0cd1",
   "metadata": {},
   "outputs": [
    {
     "name": "stderr",
     "output_type": "stream",
     "text": [
      "2021-10-20 09:22:55,403\tINFO services.py:1263 -- View the Ray dashboard at \u001b[1m\u001b[32mhttp://127.0.0.1:8266\u001b[39m\u001b[22m\n"
     ]
    },
    {
     "data": {
      "text/plain": [
       "{'node_ip_address': '10.1.16.13',\n",
       " 'raylet_ip_address': '10.1.16.13',\n",
       " 'redis_address': '10.1.16.13:30007',\n",
       " 'object_store_address': '/tmp/ray/session_2021-10-20_09-22-53_583635_3339760/sockets/plasma_store',\n",
       " 'raylet_socket_name': '/tmp/ray/session_2021-10-20_09-22-53_583635_3339760/sockets/raylet',\n",
       " 'webui_url': '127.0.0.1:8266',\n",
       " 'session_dir': '/tmp/ray/session_2021-10-20_09-22-53_583635_3339760',\n",
       " 'metrics_export_port': 59611,\n",
       " 'node_id': '0ca02784a81b8bd543c04e7fdaed8b6dec6110b2468498bcb7fbb3cf'}"
      ]
     },
     "execution_count": 4,
     "metadata": {},
     "output_type": "execute_result"
    }
   ],
   "source": [
    "import ray\n",
    "\n",
    "ray.init()\n",
    "# ray.init(num_cpus=4)"
   ]
  },
  {
   "cell_type": "code",
   "execution_count": 5,
   "id": "f4bf405a-784d-4ab4-b257-09b913e17ef4",
   "metadata": {},
   "outputs": [],
   "source": [
    "import hnswlib\n",
    "\n",
    "# Number of points\n",
    "N_base = 1000\n",
    "N_query = 10\n",
    "# Dimensonality\n",
    "d = 50\n",
    "\n",
    "X_base = np.random.uniform(size=(N_base, d))\n",
    "X = np.random.uniform(size=(N_query, d))"
   ]
  },
  {
   "cell_type": "code",
   "execution_count": 6,
   "id": "0c0f23f0-7391-42ee-aa1d-57b22e46616d",
   "metadata": {},
   "outputs": [
    {
     "name": "stdout",
     "output_type": "stream",
     "text": [
      "X_train.shape = (40000, 50), X_val.shape = (10000, 50)\n"
     ]
    },
    {
     "data": {
      "text/plain": [
       "NuqClassifier(tune_bandwidth=False)"
      ]
     },
     "execution_count": 6,
     "metadata": {},
     "output_type": "execute_result"
    }
   ],
   "source": [
    "# Number of points\n",
    "N = 50000\n",
    "# Number of classes\n",
    "k = 3\n",
    "# Dimensonality\n",
    "d = 50\n",
    "strategy = \"isj\"\n",
    "\n",
    "X = np.random.uniform(size=(N, d))\n",
    "y = np.random.choice(np.arange(k), N)\n",
    "X_train, X_val, y_train, y_val = train_test_split(X, y, test_size=0.2, random_state=42)\n",
    "print(f\"{X_train.shape = }, {X_val.shape = }\")\n",
    "\n",
    "nuq = NuqClassifier(n_neighbors=20, strategy=strategy.lower(), tune_bandwidth=False)\n",
    "nuq.fit(X_train, y_train)"
   ]
  },
  {
   "cell_type": "code",
   "execution_count": 7,
   "id": "ebb313a2-66f6-497a-8572-d9e059869d11",
   "metadata": {},
   "outputs": [],
   "source": [
    "# %%timeit\n",
    "# pred = nuq.predict_log_proba(X_val, return_uncertainty=False, batch_size=1000)"
   ]
  },
  {
   "cell_type": "markdown",
   "id": "fb4efe9c-a4ef-46ec-a33e-add118e2dad9",
   "metadata": {},
   "source": [
    "`4.04 s ± 171 ms per loop (mean ± std. dev. of 7 runs, 1 loop each)`\n",
    "\n",
    "vs\n",
    "\n",
    "`4.04 s ± 171 ms per loop (mean ± std. dev. of 7 runs, 1 loop each)`"
   ]
  },
  {
   "cell_type": "code",
   "execution_count": null,
   "id": "e94f18d1-6af2-48d2-8a72-6e0c8c83049d",
   "metadata": {},
   "outputs": [],
   "source": [
    "## Make a dataset\n",
    "X, y = make_data(\n",
    "    total_size=500,  # total_size=10_000,\n",
    "    centers=np.array([[3.0, 0.0], [3.0, 2.0], [0.0, 10]]),\n",
    ")\n",
    "X_train, X_val, y_train, y_val = train_test_split(X, y, test_size=0.2, random_state=42)\n",
    "\n",
    "x_min, x_max = X[:, 0].min() - 5, X[:, 0].max() + 5\n",
    "y_min, y_max = X[:, 1].min() - 5, X[:, 1].max() + 5\n",
    "\n",
    "# h_x, h_y = 0.05, 0.05\n",
    "h_x, h_y = [0.1] * 2\n",
    "xx, yy = np.meshgrid(np.arange(x_min, x_max, h_x), np.arange(y_min, y_max, h_y))\n",
    "X_test = np.c_[xx.ravel(), yy.ravel()]\n",
    "print(f\"{X_test.shape = }\")\n",
    "\n",
    "fig, ax = plt.subplots(nrows=1, ncols=4, figsize=(20, 8), dpi=200, sharey=True)\n",
    "ax[0].set_title(\"Raw data\")\n",
    "ax[0].scatter(X_train[:, 0], X_train[:, 1], c=y_train)\n",
    "\n",
    "# strategy options: 'isj', 'silverman', 'scott', 'classification'\n",
    "for i, strategy in enumerate([\"ISJ\", \"Classification\"]):\n",
    "    nuq = NuqClassifier(\n",
    "        strategy=strategy.lower(),\n",
    "        tune_bandwidth=False,\n",
    "        kernel_type=\"RBF\",\n",
    "        n_neighbors=20,\n",
    "        log_pN=0.0,\n",
    "    )\n",
    "    nuq.fit(X=X_train, y=y_train)\n",
    "\n",
    "    ax[1].set_title(\"Classification\")\n",
    "    probs, uncertainty = nuq.predict_proba(X_test, return_uncertainty=True)\n",
    "    ax[1].contourf(xx, yy, np.max(probs, axis=-1).reshape(*xx.shape))\n",
    "\n",
    "    ax[i + 2].set_title(f\"Uncertainty ({strategy})\")\n",
    "    ax[i + 2].contourf(xx, yy, uncertainty.reshape(*xx.shape))\n",
    "\n",
    "plt.tight_layout()\n",
    "plt.show()"
   ]
  },
  {
   "cell_type": "code",
   "execution_count": null,
   "id": "676b847c-da72-4957-ae76-baa341b7df16",
   "metadata": {},
   "outputs": [],
   "source": [
    "fig.savefig(\"student_nuq.pdf\")"
   ]
  },
  {
   "cell_type": "code",
   "execution_count": null,
   "id": "5e565bdd-6e0c-4729-bb49-113a39841a5f",
   "metadata": {},
   "outputs": [],
   "source": [
    "## Make a dataset\n",
    "X, y = make_data(\n",
    "    total_size=500,  # total_size=10_000,\n",
    "    centers=np.array([[3.0, 0.0], [4.0, 3.0], [0.0, 10]]),\n",
    ")\n",
    "X_train, X_val, y_train, y_val = train_test_split(X, y, test_size=0.2, random_state=42)\n",
    "\n",
    "fig, ax = plt.subplots(nrows=1, ncols=1, figsize=(8, 6), sharey=True)\n",
    "ax.set_title(\"Raw data\")\n",
    "ax.scatter(X_train[:, 0], X_train[:, 1], c=y_train)\n",
    "\n",
    "plt.show()"
   ]
  },
  {
   "cell_type": "code",
   "execution_count": 5,
   "id": "0c64359f-d964-45a8-b49a-3e079adca271",
   "metadata": {},
   "outputs": [
    {
     "name": "stdout",
     "output_type": "stream",
     "text": [
      "Ns = array([ 100,  181,  328,  594, 1076, 1950, 3533, 6400])\n"
     ]
    },
    {
     "data": {
      "application/vnd.jupyter.widget-view+json": {
       "model_id": "47d87a8e0a074856a00c84a3ef1d005e",
       "version_major": 2,
       "version_minor": 0
      },
      "text/plain": [
       "  0%|          | 0/8 [00:00<?, ?it/s]"
      ]
     },
     "metadata": {},
     "output_type": "display_data"
    },
    {
     "name": "stderr",
     "output_type": "stream",
     "text": [
      "2021-10-20 03:16:40,360\tWARNING worker.py:1215 -- The actor or task with ID 6f11fc36ae79b72510017be123c82e40b441ebf93d6a8211 cannot be scheduled right now. You can ignore this message if this Ray cluster is expected to auto-scale or if you specified a runtime_env for this actor or task, which may take time to install.  Otherwise, this is likely due to all cluster resources being claimed by actors. To resolve the issue, consider creating fewer actors or increasing the resources available to this Ray cluster.\n",
      "Required resources for this actor or task: {CPU: 1.000000}\n",
      "Available resources on this node: {7.000000/8.000000 CPU, 1.140102 GiB/1.140102 GiB memory, 0.570051 GiB/0.570051 GiB object_store_memory, 1.000000/1.000000 node:192.168.1.29}\n",
      "In total there are 1 pending tasks and 0 pending actors on this node.\n"
     ]
    }
   ],
   "source": [
    "from sklearn.model_selection import GridSearchCV\n",
    "\n",
    "n_points = 10\n",
    "cv = 3\n",
    "verbose = 0\n",
    "\n",
    "Ns = (100 * np.logspace(0, 6, num=8, base=2)).astype(np.int64)\n",
    "print(f\"{Ns = }\")\n",
    "\n",
    "results = []\n",
    "for N in tqdm(Ns):\n",
    "    X, y = make_data(\n",
    "        total_size=N,\n",
    "        centers=np.array([[3.0, 0.0], [4.0, 3.0], [0.0, 10]]),\n",
    "    )\n",
    "\n",
    "    nuq = NuqClassifier(\n",
    "        strategy=\"isj\",\n",
    "        tune_bandwidth=False,\n",
    "        kernel_type=\"RBF\",\n",
    "        n_neighbors=20,\n",
    "        log_pN=0.0,\n",
    "    )\n",
    "    nuq.fit(X=X, y=y)\n",
    "\n",
    "    _, dists = ray.get(nuq.index_.knn_query.remote(nuq.X_ref_, return_dist=True))\n",
    "    dists_mean = dists.mean(axis=0)\n",
    "    left, right = dists_mean[1], dists_mean[-1]\n",
    "\n",
    "    grid = np.linspace(left, right, n_points)\n",
    "\n",
    "    gs = GridSearchCV(\n",
    "        nuq,\n",
    "        param_grid={\"bandwidth\": grid},\n",
    "        scoring=\"accuracy\",\n",
    "        cv=cv,\n",
    "        n_jobs=None,\n",
    "        verbose=verbose,\n",
    "    )\n",
    "    gs.fit(X, y)\n",
    "\n",
    "    results.append(\n",
    "        {\"N\": N, \"bandwidth\": gs.best_params_[\"bandwidth\"], \"score\": gs.best_score_}\n",
    "    )\n",
    "\n",
    "results_df = pd.DataFrame(results)"
   ]
  },
  {
   "cell_type": "code",
   "execution_count": 6,
   "id": "f3158218-501d-45fe-bab9-eb8867d58cca",
   "metadata": {},
   "outputs": [
    {
     "data": {
      "text/html": [
       "<div>\n",
       "<style scoped>\n",
       "    .dataframe tbody tr th:only-of-type {\n",
       "        vertical-align: middle;\n",
       "    }\n",
       "\n",
       "    .dataframe tbody tr th {\n",
       "        vertical-align: top;\n",
       "    }\n",
       "\n",
       "    .dataframe thead th {\n",
       "        text-align: right;\n",
       "    }\n",
       "</style>\n",
       "<table border=\"1\" class=\"dataframe\">\n",
       "  <thead>\n",
       "    <tr style=\"text-align: right;\">\n",
       "      <th></th>\n",
       "      <th>N</th>\n",
       "      <th>bandwidth</th>\n",
       "      <th>score</th>\n",
       "    </tr>\n",
       "  </thead>\n",
       "  <tbody>\n",
       "    <tr>\n",
       "      <th>0</th>\n",
       "      <td>100</td>\n",
       "      <td>1.338210</td>\n",
       "      <td>0.960190</td>\n",
       "    </tr>\n",
       "    <tr>\n",
       "      <th>1</th>\n",
       "      <td>181</td>\n",
       "      <td>0.655068</td>\n",
       "      <td>0.961293</td>\n",
       "    </tr>\n",
       "    <tr>\n",
       "      <th>2</th>\n",
       "      <td>328</td>\n",
       "      <td>0.404484</td>\n",
       "      <td>0.957326</td>\n",
       "    </tr>\n",
       "    <tr>\n",
       "      <th>3</th>\n",
       "      <td>594</td>\n",
       "      <td>0.589011</td>\n",
       "      <td>0.962963</td>\n",
       "    </tr>\n",
       "    <tr>\n",
       "      <th>4</th>\n",
       "      <td>1076</td>\n",
       "      <td>0.374898</td>\n",
       "      <td>0.961892</td>\n",
       "    </tr>\n",
       "    <tr>\n",
       "      <th>5</th>\n",
       "      <td>1950</td>\n",
       "      <td>0.189822</td>\n",
       "      <td>0.953846</td>\n",
       "    </tr>\n",
       "    <tr>\n",
       "      <th>6</th>\n",
       "      <td>3533</td>\n",
       "      <td>0.130281</td>\n",
       "      <td>0.946503</td>\n",
       "    </tr>\n",
       "    <tr>\n",
       "      <th>7</th>\n",
       "      <td>6400</td>\n",
       "      <td>0.076928</td>\n",
       "      <td>0.949375</td>\n",
       "    </tr>\n",
       "  </tbody>\n",
       "</table>\n",
       "</div>"
      ],
      "text/plain": [
       "      N  bandwidth     score\n",
       "0   100   1.338210  0.960190\n",
       "1   181   0.655068  0.961293\n",
       "2   328   0.404484  0.957326\n",
       "3   594   0.589011  0.962963\n",
       "4  1076   0.374898  0.961892\n",
       "5  1950   0.189822  0.953846\n",
       "6  3533   0.130281  0.946503\n",
       "7  6400   0.076928  0.949375"
      ]
     },
     "execution_count": 6,
     "metadata": {},
     "output_type": "execute_result"
    }
   ],
   "source": [
    "results_df"
   ]
  },
  {
   "cell_type": "code",
   "execution_count": 8,
   "id": "7a2bedf9-5ab4-4835-9568-c0cd635ae8fc",
   "metadata": {},
   "outputs": [],
   "source": [
    "from functools import partial\n",
    "\n",
    "def get_kernel(old_h, old_N, new_N, dim):\n",
    "    return old_h * np.exp((np.log(old_N) - np.log(new_N)) / (dim + 4))"
   ]
  },
  {
   "cell_type": "code",
   "execution_count": 28,
   "id": "df14631d-5af8-4d33-8977-d7b595430f9e",
   "metadata": {},
   "outputs": [
    {
     "data": {
      "image/png": "[encoded data removed]",
      "text/plain": [
       "<Figure size 576x432 with 1 Axes>"
      ]
     },
     "metadata": {
      "needs_background": "light"
     },
     "output_type": "display_data"
    }
   ],
   "source": [
    "fig, ax = plt.subplots(1, 1, figsize=(8, 6))\n",
    "\n",
    "base_idx = 4\n",
    "f = partial(\n",
    "    get_kernel,\n",
    "    results_df[\"bandwidth\"].values[base_idx],\n",
    "    results_df[\"N\"].values[base_idx],\n",
    "    dim=2,\n",
    ")\n",
    "\n",
    "eps = 0.07\n",
    "ax.plot(results_df[\"N\"], np.log(results_df[\"bandwidth\"] - eps), label=\"Empirical\")\n",
    "ax.plot(\n",
    "    results_df[\"N\"],\n",
    "    np.log(np.array([f(x) for x in results_df[\"N\"]]) - eps),\n",
    "    label=\"Theoretical\",\n",
    ")\n",
    "ax.legend()\n",
    "\n",
    "plt.show()"
   ]
  },
  {
   "cell_type": "code",
   "execution_count": 13,
   "id": "f5f63ade-0e74-468a-bd18-a107e1ea011f",
   "metadata": {},
   "outputs": [],
   "source": [
    "N = 1000\n",
    "\n",
    "X, y = make_data(\n",
    "    total_size=N,\n",
    "    centers=np.array([[3.0, 0.0], [4.0, 3.0], [0.0, 10]]),\n",
    ")"
   ]
  },
  {
   "cell_type": "code",
   "execution_count": 14,
   "id": "94c63a3a-fed1-41d4-9c19-979d5bd50f99",
   "metadata": {},
   "outputs": [
    {
     "data": {
      "application/vnd.jupyter.widget-view+json": {
       "model_id": "a851ee89917146ec98b9d7082b6a6309",
       "version_major": 2,
       "version_minor": 0
      },
      "text/plain": [
       "Tuning bandwidth:   0%|          | 0/3 [00:00<?, ?it/s]"
      ]
     },
     "metadata": {},
     "output_type": "display_data"
    },
    {
     "name": "stdout",
     "output_type": "stream",
     "text": [
      "  [CLASSIFICATION:N_FOLDS=5;VERBOSE=1] bandwidth = 0.48232296109199524 (score = 0.9499999999999998)\n"
     ]
    },
    {
     "data": {
      "text/plain": [
       "0.959"
      ]
     },
     "execution_count": 14,
     "metadata": {},
     "output_type": "execute_result"
    }
   ],
   "source": [
    "nuq = NuqClassifier(\n",
    "    tune_bandwidth=\"classification:n_folds=5;verbose=1\",\n",
    "    kernel_type=\"RBF\",\n",
    ")\n",
    "nuq.fit(X=X, y=y)\n",
    "nuq.score(X=X, y=y)"
   ]
  },
  {
   "cell_type": "code",
   "execution_count": 15,
   "id": "cef33a04-0696-4fac-8cfa-ac7bf6d2f244",
   "metadata": {},
   "outputs": [
    {
     "data": {
      "text/plain": [
       "array([2, 2, 1, 0, 2, 2, 1, 2, 1, 2, 1, 0, 1, 2, 0, 2, 1, 0, 0, 1, 2, 2,\n",
       "       0, 0, 1, 2, 1, 1, 0, 0, 2, 0, 1, 1, 0, 1, 1, 1, 0, 0, 0, 2, 2, 2,\n",
       "       1, 2, 0, 0, 1, 2, 1, 2, 1, 0, 1, 0, 1, 1, 2, 1, 1, 1, 0, 0, 1, 0,\n",
       "       1, 2, 0, 1, 2, 2, 1, 0, 0, 1, 2, 0, 1, 0, 1, 2, 2, 2, 2, 2, 2, 1,\n",
       "       0, 1, 1, 2, 0, 0, 0, 2, 1, 1, 2, 0, 0, 0, 0, 2, 1, 1, 0, 2, 1, 1,\n",
       "       2, 1, 0, 0, 0, 0, 2, 2, 2, 0, 1, 1, 2, 2, 1, 0, 0, 1, 1, 0, 0, 1,\n",
       "       2, 0, 0, 2, 1, 1, 1, 2, 2, 0, 1, 2, 2, 0, 2, 2, 0, 2, 1, 0, 1, 1,\n",
       "       2, 0, 0, 1, 0, 1, 0, 2, 0, 1, 0, 1, 2, 1, 1, 2, 0, 0, 2, 1, 0, 1,\n",
       "       2, 2, 0, 2, 1, 1, 0, 0, 2, 1, 1, 1, 1, 1, 2, 1, 1, 1, 0, 0, 0, 0,\n",
       "       0, 2, 2, 2, 0, 2, 1, 0, 1, 2, 0, 0, 1, 0, 1, 2, 0, 1, 0, 0, 1, 2,\n",
       "       1, 1, 0, 1, 2, 1, 0, 2, 1, 0, 0, 0, 0, 1, 1, 1, 1, 1, 0, 2, 0, 2,\n",
       "       1, 1, 1, 0, 0, 2, 0, 0, 0, 0, 2, 0, 1, 0, 0, 2, 1, 1, 2, 0, 0, 2,\n",
       "       1, 0, 2, 1, 0, 1, 1, 2, 1, 1, 2, 0, 0, 1, 2, 0, 0, 0, 1, 0, 1, 2,\n",
       "       1, 0, 1, 1, 2, 1, 0, 0, 2, 0, 1, 1, 2, 0, 1, 2, 2, 2, 1, 2, 1, 1,\n",
       "       1, 1, 2, 0, 1, 2, 2, 0, 0, 2, 0, 0, 0, 1, 2, 1, 0, 2, 0, 0, 2, 2,\n",
       "       2, 2, 0, 0, 0, 2, 1, 2, 0, 2, 0, 1, 1, 1, 2, 2, 2, 2, 1, 0, 2, 1,\n",
       "       1, 0, 2, 0, 1, 0, 0, 2, 0, 0, 1, 0, 0, 1, 0, 1, 1, 2, 0, 2, 0, 1,\n",
       "       1, 2, 2, 0, 1, 1, 1, 1, 0, 2, 2, 0, 1, 0, 2, 2, 0, 0, 1, 1, 2, 2,\n",
       "       1, 1, 1, 1, 0, 0, 2, 1, 0, 2, 1, 2, 0, 2, 1, 0, 2, 2, 1, 1, 0, 0,\n",
       "       1, 0, 2, 2, 1, 2, 1, 2, 2, 2, 1, 0, 2, 2, 2, 1, 0, 1, 0, 1, 0, 1,\n",
       "       2, 0, 2, 1, 1, 1, 2, 2, 1, 1, 2, 0, 1, 1, 1, 0, 1, 2, 2, 0, 2, 0,\n",
       "       0, 2, 2, 1, 1, 2, 1, 1, 1, 1, 0, 1, 2, 1, 0, 1, 1, 1, 1, 1, 2, 1,\n",
       "       2, 1, 1, 2, 2, 1, 2, 2, 1, 1, 2, 0, 0, 2, 1, 0, 2, 0, 1, 1, 1, 0,\n",
       "       2, 0, 0, 2, 1, 0, 0, 2, 1, 2, 0, 2, 0, 2, 1, 0, 2, 1, 0, 0, 0, 2,\n",
       "       2, 1, 1, 2, 2, 1, 2, 0, 0, 1, 2, 2, 2, 1, 0, 0, 1, 1, 2, 0, 2, 0,\n",
       "       0, 2, 2, 0, 0, 2, 0, 2, 1, 1, 2, 2, 0, 1, 2, 0, 0, 2, 0, 1, 0, 2,\n",
       "       0, 0, 2, 1, 1, 2, 0, 1, 1, 2, 1, 2, 1, 0, 0, 0, 2, 2, 2, 1, 2, 0,\n",
       "       2, 1, 2, 1, 1, 2, 1, 1, 0, 2, 1, 2, 2, 1, 2, 1, 0, 2, 1, 0, 0, 0,\n",
       "       0, 0, 1, 2, 1, 2, 2, 1, 2, 0, 0, 0, 2, 0, 2, 0, 1, 0, 0, 0, 2, 0,\n",
       "       2, 0, 1, 2, 2, 1, 1, 2, 2, 0, 0, 2, 0, 0, 1, 1, 2, 1, 1, 0, 2, 2,\n",
       "       0, 1, 0, 1, 0, 1, 1, 2, 2, 2, 2, 0, 0, 2, 1, 1, 0, 0, 0, 2, 1, 1,\n",
       "       2, 1, 1, 0, 1, 2, 2, 1, 2, 2, 1, 1, 1, 1, 2, 0, 0, 2, 2, 2, 1, 2,\n",
       "       0, 2, 0, 1, 2, 0, 2, 1, 2, 2, 2, 2, 1, 0, 2, 1, 0, 0, 1, 0, 0, 0,\n",
       "       2, 2, 2, 2, 1, 1, 2, 0, 2, 1, 0, 2, 0, 1, 1, 0, 2, 1, 2, 1, 0, 1,\n",
       "       1, 0, 0, 2, 0, 0, 0, 0, 1, 2, 0, 0, 2, 0, 2, 1, 1, 1, 2, 0, 1, 1,\n",
       "       0, 1, 1, 2, 2, 0, 0, 1, 2, 2, 2, 1, 1, 1, 0, 2, 1, 1, 1, 2, 0, 2,\n",
       "       2, 0, 2, 1, 2, 2, 0, 1, 0, 2, 1, 0, 0, 0, 2, 0, 2, 1, 2, 1, 2, 2,\n",
       "       0, 0, 2, 1, 1, 1, 2, 2, 0, 0, 2, 2, 2, 1, 1, 1, 2, 2, 2, 0, 1, 2,\n",
       "       2, 1, 0, 1, 1, 2, 1, 0, 0, 2, 2, 1, 0, 0, 1, 1, 2, 1, 0, 1, 2, 2,\n",
       "       2, 1, 2, 0, 0, 0, 2, 1, 1, 0, 0, 2, 1, 0, 1, 0, 0, 2, 0, 0, 0, 0,\n",
       "       1, 0, 0, 2, 0, 0, 0, 0, 0, 2, 0, 1, 2, 2, 2, 2, 1, 0, 1, 1, 1, 0,\n",
       "       2, 0, 0, 0, 2, 2, 0, 1, 0, 1, 1, 2, 2, 2, 0, 1, 0, 1, 1, 2, 2, 1,\n",
       "       2, 1, 0, 2, 0, 2, 2, 2, 0, 2, 2, 0, 2, 0, 1, 0, 2, 1, 0, 2, 0, 1,\n",
       "       0, 2, 2, 0, 1, 2, 1, 1, 2, 1, 1, 2, 1, 2, 2, 2, 2, 1, 2, 1, 2, 0,\n",
       "       2, 1, 1, 0, 1, 2, 0, 0, 2, 0, 2, 0, 0, 1, 1, 0, 1, 0, 2, 0, 0, 2,\n",
       "       2, 0, 1, 2, 1, 1, 2, 0, 1, 0])"
      ]
     },
     "execution_count": 15,
     "metadata": {},
     "output_type": "execute_result"
    }
   ],
   "source": [
    "nuq.predict(X)"
   ]
  },
  {
   "cell_type": "code",
   "execution_count": null,
   "id": "83c3ec05-44f0-48c5-b72e-9011723595f1",
   "metadata": {},
   "outputs": [],
   "source": []
  }
 ],
 "metadata": {
  "kernelspec": {
   "display_name": "Python [conda env:ray-env]",
   "language": "python",
   "name": "conda-env-ray-env-py"
  },
  "language_info": {
   "codemirror_mode": {
    "name": "ipython",
    "version": 3
   },
   "file_extension": ".py",
   "mimetype": "text/x-python",
   "name": "python",
   "nbconvert_exporter": "python",
   "pygments_lexer": "ipython3",
   "version": "3.8.12"
  }
 },
 "nbformat": 4,
 "nbformat_minor": 5
}
