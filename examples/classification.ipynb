{
 "cells": [
  {
   "cell_type": "code",
   "execution_count": null,
   "id": "c6068959",
   "metadata": {
    "pycharm": {
     "name": "#%%\n"
    }
   },
   "outputs": [],
   "source": [
    "# show C-level stderr/stdout\n",
    "%load_ext lab_black\n",
    "%load_ext wurlitzer\n",
    "%load_ext autoreload\n",
    "%autoreload 2"
   ]
  },
  {
   "cell_type": "code",
   "execution_count": null,
   "id": "bf364e1c",
   "metadata": {
    "pycharm": {
     "name": "#%%\n"
    }
   },
   "outputs": [],
   "source": [
    "import matplotlib.pyplot as plt\n",
    "import pandas as pd\n",
    "import numpy as np\n",
    "\n",
    "from tqdm.notebook import tqdm"
   ]
  },
  {
   "cell_type": "code",
   "execution_count": null,
   "id": "d12742a0",
   "metadata": {
    "pycharm": {
     "name": "#%%\n"
    }
   },
   "outputs": [],
   "source": [
    "import matplotlib\n",
    "from sklearn.datasets import make_blobs\n",
    "from sklearn.model_selection import train_test_split\n",
    "from nuq import NuqClassifier\n",
    "\n",
    "plt.rcParams.update({\"font.size\": 14})\n",
    "# plt.rcParams[\"image.cmap\"] = \"twilight\"\n",
    "\n",
    "\n",
    "def plot_data(X, y, title=None):\n",
    "    plt.close()\n",
    "    plt.figure()\n",
    "    if title:\n",
    "        plt.title(title)\n",
    "    plt.scatter(X[:, 0], X[:, 1], c=y)\n",
    "    plt.tight_layout()\n",
    "    plt.show()\n",
    "\n",
    "\n",
    "def make_data(total_size=5000, centers=np.array([[-4.0, -4.0], [0.0, 4.0]])):\n",
    "    X, y = make_blobs(n_samples=total_size, n_features=2, centers=centers)\n",
    "    return X, y"
   ]
  },
  {
   "cell_type": "code",
   "execution_count": null,
   "id": "47bed0f8",
   "metadata": {
    "pycharm": {
     "name": "#%%\n"
    }
   },
   "outputs": [
    {
     "name": "stderr",
     "output_type": "stream",
     "text": [
      "2021-11-17 00:33:38,984\tINFO services.py:1263 -- View the Ray dashboard at \u001B[1m\u001B[32mhttp://127.0.0.1:8265\u001B[39m\u001B[22m\n"
     ]
    },
    {
     "data": {
      "text/plain": [
       "{'node_ip_address': '192.168.0.101',\n",
       " 'raylet_ip_address': '192.168.0.101',\n",
       " 'redis_address': '192.168.0.101:6379',\n",
       " 'object_store_address': '/tmp/ray/session_2021-11-17_00-33-37_716022_87884/sockets/plasma_store',\n",
       " 'raylet_socket_name': '/tmp/ray/session_2021-11-17_00-33-37_716022_87884/sockets/raylet',\n",
       " 'webui_url': '127.0.0.1:8265',\n",
       " 'session_dir': '/tmp/ray/session_2021-11-17_00-33-37_716022_87884',\n",
       " 'metrics_export_port': 62383,\n",
       " 'node_id': 'c4dee821284b6544efdf1b83209bb12420cfb28a1bb949bbf2484174'}"
      ]
     },
     "execution_count": 4,
     "metadata": {},
     "output_type": "execute_result"
    }
   ],
   "source": [
    "import ray\n",
    "\n",
    "# Compare with different parallelism\n",
    "ray.init()\n",
    "# ray.init(num_cpus=1)\n",
    "# ray.init(num_cpus=4)"
   ]
  },
  {
   "cell_type": "code",
   "execution_count": 6,
   "id": "68f7fa47",
   "metadata": {
    "pycharm": {
     "name": "#%%\n"
    }
   },
   "outputs": [
    {
     "name": "stdout",
     "output_type": "stream",
     "text": [
      "X_train.shape = (40000, 50), X_val.shape = (10000, 50)\n"
     ]
    },
    {
     "data": {
      "application/vnd.jupyter.widget-view+json": {
       "model_id": "0f1bc2d8b655428f90e0c3710aa91801",
       "version_major": 2,
       "version_minor": 0
      },
      "text/plain": [
       "Tuning bandwidth:   0%|          | 0/3 [00:00<?, ?it/s]"
      ]
     },
     "metadata": {},
     "output_type": "display_data"
    },
    {
     "name": "stdout",
     "output_type": "stream",
     "text": [
      "  [CLASSIFICATION:N_FOLDS=10;N_SAMPLES=3;VERBOSE=1] bandwidth = 4.307693719863892 (score = 0.33583333333333326)\n"
     ]
    }
   ],
   "source": [
    "# Number of points\n",
    "N = 50000\n",
    "# Number of classes\n",
    "k = 3\n",
    "# Dimensonality\n",
    "d = 50\n",
    "tune_bandwidth = \"classification:n_folds=10;n_samples=3;verbose=1\"\n",
    "\n",
    "X = np.random.uniform(size=(N, d))\n",
    "y = np.random.choice(np.arange(k), N)\n",
    "X_train, X_val, y_train, y_val = train_test_split(X, y, test_size=0.2, random_state=42)\n",
    "print(f\"{X_train.shape = }, {X_val.shape = }\")\n",
    "\n",
    "nuq = NuqClassifier(n_neighbors=20, tune_bandwidth=tune_bandwidth, verbose=True)\n",
    "_ = nuq.fit(X_train, y_train, np.random.exponential(1, X_train.shape[0])[:, None])"
   ]
  },
  {
   "cell_type": "code",
   "execution_count": 12,
   "id": "54b6a1ee",
   "metadata": {
    "pycharm": {
     "name": "#%%\n"
    }
   },
   "outputs": [
    {
     "data": {
      "application/vnd.jupyter.widget-view+json": {
       "model_id": "5deac8f93b494190aa65b7b7c1674ce4",
       "version_major": 2,
       "version_minor": 0
      },
      "text/plain": [
       "  0%|          | 0/10 [00:00<?, ?it/s]"
      ]
     },
     "metadata": {},
     "output_type": "display_data"
    },
    {
     "data": {
      "application/vnd.jupyter.widget-view+json": {
       "model_id": "993d14f3104f4ec9b8c46746074e779e",
       "version_major": 2,
       "version_minor": 0
      },
      "text/plain": [
       "  0%|          | 0/10 [00:00<?, ?it/s]"
      ]
     },
     "metadata": {},
     "output_type": "display_data"
    },
    {
     "data": {
      "application/vnd.jupyter.widget-view+json": {
       "model_id": "914f9feb874a4b8c85e67fcfabebf426",
       "version_major": 2,
       "version_minor": 0
      },
      "text/plain": [
       "  0%|          | 0/10 [00:00<?, ?it/s]"
      ]
     },
     "metadata": {},
     "output_type": "display_data"
    },
    {
     "data": {
      "application/vnd.jupyter.widget-view+json": {
       "model_id": "42ec4105065d474e920254bea2c02855",
       "version_major": 2,
       "version_minor": 0
      },
      "text/plain": [
       "  0%|          | 0/10 [00:00<?, ?it/s]"
      ]
     },
     "metadata": {},
     "output_type": "display_data"
    },
    {
     "data": {
      "application/vnd.jupyter.widget-view+json": {
       "model_id": "c4bb4f37c60b4a7b9990db736a99b0e8",
       "version_major": 2,
       "version_minor": 0
      },
      "text/plain": [
       "  0%|          | 0/10 [00:00<?, ?it/s]"
      ]
     },
     "metadata": {},
     "output_type": "display_data"
    },
    {
     "data": {
      "application/vnd.jupyter.widget-view+json": {
       "model_id": "6559f4f0e260440098b4d675f249a5e0",
       "version_major": 2,
       "version_minor": 0
      },
      "text/plain": [
       "  0%|          | 0/10 [00:00<?, ?it/s]"
      ]
     },
     "metadata": {},
     "output_type": "display_data"
    },
    {
     "data": {
      "application/vnd.jupyter.widget-view+json": {
       "model_id": "c25936de90c240f088a24b3e3f882723",
       "version_major": 2,
       "version_minor": 0
      },
      "text/plain": [
       "  0%|          | 0/10 [00:00<?, ?it/s]"
      ]
     },
     "metadata": {},
     "output_type": "display_data"
    },
    {
     "data": {
      "application/vnd.jupyter.widget-view+json": {
       "model_id": "b91357f0d6e7439caef98e6c9b43897b",
       "version_major": 2,
       "version_minor": 0
      },
      "text/plain": [
       "  0%|          | 0/10 [00:00<?, ?it/s]"
      ]
     },
     "metadata": {},
     "output_type": "display_data"
    },
    {
     "name": "stdout",
     "output_type": "stream",
     "text": [
      "2.08 s ± 118 ms per loop (mean ± std. dev. of 7 runs, 1 loop each)\n"
     ]
    }
   ],
   "source": [
    "%%timeit\n",
    "\n",
    "pred = nuq.predict(X_val, return_uncertainty=\"aleatoric\")"
   ]
  },
  {
   "cell_type": "markdown",
   "id": "60d030a1",
   "metadata": {
    "pycharm": {
     "name": "#%% md\n"
    }
   },
   "source": [
    "## Parallelism Comparison\n",
    "\n",
    "1 core: `4.05 s ± 176 ms per loop (mean ± std. dev. of 7 runs, 1 loop each)`\n",
    "\n",
    "vs\n",
    "\n",
    "4 cores: `1.56 s ± 66 ms per loop (mean ± std. dev. of 7 runs, 1 loop each)`"
   ]
  },
  {
   "cell_type": "markdown",
   "id": "a869874a",
   "metadata": {
    "pycharm": {
     "name": "#%% md\n"
    }
   },
   "source": [
    "## Inference on Toy Dataset"
   ]
  },
  {
   "cell_type": "code",
   "execution_count": 9,
   "id": "71e56c27",
   "metadata": {
    "pycharm": {
     "name": "#%%\n"
    }
   },
   "outputs": [
    {
     "name": "stdout",
     "output_type": "stream",
     "text": [
      "X_test.shape = (46116, 2)\n",
      "  [ISJ] bandwidth = array([0.15380154, 0.26038231])\n"
     ]
    },
    {
     "data": {
      "application/vnd.jupyter.widget-view+json": {
       "model_id": "deb7e47544f548548eaffb90c7973733",
       "version_major": 2,
       "version_minor": 0
      },
      "text/plain": [
       "  0%|          | 0/47 [00:00<?, ?it/s]"
      ]
     },
     "metadata": {},
     "output_type": "display_data"
    },
    {
     "data": {
      "application/vnd.jupyter.widget-view+json": {
       "model_id": "1f711b6ba3d14e42b8cc0e154b5c04bd",
       "version_major": 2,
       "version_minor": 0
      },
      "text/plain": [
       "  0%|          | 0/47 [00:00<?, ?it/s]"
      ]
     },
     "metadata": {},
     "output_type": "display_data"
    },
    {
     "name": "stdout",
     "output_type": "stream",
     "text": [
      "  [CLASSIFICATION] bandwidth = 0.672114159911871 (score = 0.9083333333333333)\n"
     ]
    },
    {
     "data": {
      "application/vnd.jupyter.widget-view+json": {
       "model_id": "030787f0a49c4e83b6764f15d83b4710",
       "version_major": 2,
       "version_minor": 0
      },
      "text/plain": [
       "  0%|          | 0/47 [00:00<?, ?it/s]"
      ]
     },
     "metadata": {},
     "output_type": "display_data"
    },
    {
     "data": {
      "application/vnd.jupyter.widget-view+json": {
       "model_id": "a441f30e822a4eed80011869cd53b92d",
       "version_major": 2,
       "version_minor": 0
      },
      "text/plain": [
       "  0%|          | 0/47 [00:00<?, ?it/s]"
      ]
     },
     "metadata": {},
     "output_type": "display_data"
    },
    {
     "data": {
      "application/vnd.jupyter.widget-view+json": {
       "model_id": "2498662f78c744e1bbb14ff13b65dc92",
       "version_major": 2,
       "version_minor": 0
      },
      "text/plain": [
       "  0%|          | 0/47 [00:00<?, ?it/s]"
      ]
     },
     "metadata": {},
     "output_type": "display_data"
    },
    {
     "data": {
      "application/vnd.jupyter.widget-view+json": {
       "model_id": "fa53775dc839487d843d33647e6d102c",
       "version_major": 2,
       "version_minor": 0
      },
      "text/plain": [
       "  0%|          | 0/47 [00:00<?, ?it/s]"
      ]
     },
     "metadata": {},
     "output_type": "display_data"
    },
    {
     "data": {
      "image/png": "[encoded data removed]",
      "text/plain": [
       "<Figure size 720x1008 with 12 Axes>"
      ]
     },
     "metadata": {
      "needs_background": "light"
     },
     "output_type": "display_data"
    }
   ],
   "source": [
    "## Make a dataset\n",
    "X, y = make_data(\n",
    "    total_size=500,  # total_size=10_000,\n",
    "    centers=np.array([[3.0, 0.0], [3.0, 2.0], [0.0, 10]]),\n",
    ")\n",
    "X_train, X_val, y_train, y_val = train_test_split(X, y, test_size=0.2, random_state=42)\n",
    "\n",
    "x_min, x_max = X[:, 0].min() - 5, X[:, 0].max() + 5\n",
    "y_min, y_max = X[:, 1].min() - 5, X[:, 1].max() + 5\n",
    "\n",
    "h_x, h_y = [0.1] * 2\n",
    "xx, yy = np.meshgrid(np.arange(x_min, x_max, h_x), np.arange(y_min, y_max, h_y))\n",
    "X_test = np.c_[xx.ravel(), yy.ravel()]\n",
    "print(f\"{X_test.shape = }\")\n",
    "\n",
    "fig, ax = plt.subplots(nrows=4, ncols=3, figsize=(10, 14), sharey=True)\n",
    "ax = ax.ravel()\n",
    "\n",
    "for axis in ax:\n",
    "    axis.axis(\"off\")\n",
    "ax[1].set_title(\"Raw data\")\n",
    "ax[1].scatter(X_train[:, 0], X_train[:, 1], c=y_train)\n",
    "ax[1].set_xlim(x_min, x_max)\n",
    "ax[1].set_ylim(y_min, y_max)\n",
    "\n",
    "bandwidth_rand = np.random.exponential(1, X_train.shape[0])[:, None]\n",
    "fixed = \"random exponential\"\n",
    "for i, tune_bandwidth in enumerate([\"ISJ\", \"classification\", fixed]):\n",
    "    nuq = NuqClassifier(\n",
    "        tune_bandwidth=tune_bandwidth.lower() if tune_bandwidth != fixed else None,\n",
    "        kernel_type=\"RBF\",\n",
    "        n_neighbors=20,\n",
    "        log_pN=0.0,\n",
    "        sparse=False,\n",
    "        verbose=True,\n",
    "    )\n",
    "\n",
    "    nuq.fit(\n",
    "        X=X_train,\n",
    "        y=y_train,\n",
    "        bandwidth=bandwidth_rand if tune_bandwidth == fixed else None,\n",
    "    )\n",
    "\n",
    "    first_run = True\n",
    "    for j, return_uncertainty in enumerate([\"epistemic\", \"aleatoric\"]):\n",
    "        idx = 3 * (i + 1)\n",
    "\n",
    "        probs, log_uncertainty = nuq.predict_proba(\n",
    "            X_test, return_uncertainty=return_uncertainty\n",
    "        )\n",
    "        if first_run:\n",
    "            ax[idx].set_title(f\"Predictions ({tune_bandwidth})\")\n",
    "            ax[idx].contourf(xx, yy, np.max(probs, axis=-1).reshape(*xx.shape))\n",
    "            first_run = False\n",
    "\n",
    "        ax[idx + j + 1].set_title(f\"Uncertainty ({return_uncertainty})\")\n",
    "        ax[idx + j + 1].contourf(xx, yy, log_uncertainty.reshape(*xx.shape))\n",
    "\n",
    "plt.tight_layout()\n",
    "plt.show()"
   ]
  },
  {
   "cell_type": "code",
   "execution_count": 8,
   "id": "39e7f0a9",
   "metadata": {
    "pycharm": {
     "name": "#%%\n"
    }
   },
   "outputs": [],
   "source": [
    "fig.savefig(\"nuq_classification.pdf\")"
   ]
  }
 ],
 "metadata": {
  "interpreter": {
   "hash": "94e3ae25e1b57382a69bc4d7e134acb10370bcca846791b7f75a8e27f4c10b1c"
  },
  "kernelspec": {
   "display_name": "Python [conda env:ray-env]",
   "language": "python",
   "name": "conda-env-ray-env-py"
  },
  "language_info": {
   "codemirror_mode": {
    "name": "ipython",
    "version": 3
   },
   "file_extension": ".py",
   "mimetype": "text/x-python",
   "name": "python",
   "nbconvert_exporter": "python",
   "pygments_lexer": "ipython3",
   "version": "3.8.12"
  }
 },
 "nbformat": 4,
 "nbformat_minor": 5
}