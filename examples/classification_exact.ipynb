{
 "cells": [
  {
   "cell_type": "code",
   "execution_count": 1,
   "id": "d5d7be31",
   "metadata": {},
   "outputs": [],
   "source": [
    "%load_ext autoreload\n",
    "%autoreload 2"
   ]
  },
  {
   "cell_type": "code",
   "execution_count": 2,
   "id": "4114c165",
   "metadata": {},
   "outputs": [],
   "source": [
    "import matplotlib as mpl\n",
    "\n",
    "mpl.rc(\"mathtext\", fontset=\"cm\")\n",
    "#plt.rcParams.update({\"font.size\": 14})\n",
    "# plt.rcParams[\"image.cmap\"] = \"twilight\""
   ]
  },
  {
   "cell_type": "code",
   "execution_count": 3,
   "id": "14d74cf6",
   "metadata": {},
   "outputs": [],
   "source": [
    "import matplotlib.pyplot as plt\n",
    "import pandas as pd\n",
    "import numpy as np\n",
    "\n",
    "from tqdm.notebook import tqdm"
   ]
  },
  {
   "cell_type": "code",
   "execution_count": 4,
   "id": "34fdcb55",
   "metadata": {},
   "outputs": [],
   "source": [
    "from sklearn.datasets import make_blobs, make_moons\n",
    "from sklearn.model_selection import train_test_split\n",
    "from sklearn.neural_network import MLPClassifier\n",
    "\n",
    "from nuq.nuq_classifier_exact import NUQClassifierExact"
   ]
  },
  {
   "cell_type": "code",
   "execution_count": 5,
   "id": "dfb16bf1",
   "metadata": {},
   "outputs": [],
   "source": [
    "## Make a dataset\n",
    "X, y = make_moons(\n",
    "    n_samples=500,  # total_size=10_000,\n",
    "    noise=0.2,\n",
    "    random_state=42,\n",
    ")\n",
    "X_train_nn, X_val_nn, y_train_nn, y_val_nn = train_test_split(\n",
    "    X,\n",
    "    y,\n",
    "    test_size=0.2,\n",
    "    random_state=42,\n",
    "    stratify=y,\n",
    ")"
   ]
  },
  {
   "cell_type": "code",
   "execution_count": 6,
   "id": "d947ce12",
   "metadata": {},
   "outputs": [],
   "source": [
    "# Get embeddings from sklearn\n",
    "from sklearn.neural_network._base import ACTIVATIONS\n",
    "from sklearn.utils.extmath import safe_sparse_dot\n",
    "\n",
    "\n",
    "def get_embeddings(model, X):\n",
    "\n",
    "    \"\"\"Predict using the trained model\n",
    "    This is the same as _forward_pass but does not record the activations\n",
    "    of all layers and only returns the last layer's activation.\n",
    "    Parameters\n",
    "    ----------\n",
    "    X : {array-like, sparse matrix} of shape (n_samples, n_features)\n",
    "        The input data.\n",
    "    Returns\n",
    "    -------\n",
    "    y_pred : ndarray of shape (n_samples,) or (n_samples, n_outputs)\n",
    "        The decision function of the samples for each class in the model.\n",
    "    \"\"\"\n",
    "    #X = model._validate_data(X, accept_sparse=[\"csr\", \"csc\"], reset=False)\n",
    "\n",
    "    # Initialize first layer\n",
    "    activation = X\n",
    "\n",
    "    # Forward propagate\n",
    "    hidden_activation = ACTIVATIONS[model.activation]\n",
    "    for i in range(model.n_layers_ - 2):\n",
    "        activation = safe_sparse_dot(activation, model.coefs_[i])\n",
    "        activation += model.intercepts_[i]\n",
    "        if i != model.n_layers_ - 2:\n",
    "            hidden_activation(activation)\n",
    "    # output_activation = ACTIVATIONS[self.out_activation_]\n",
    "    # output_activation(activation)\n",
    "\n",
    "    return activation"
   ]
  },
  {
   "cell_type": "code",
   "execution_count": 7,
   "id": "fce68848",
   "metadata": {},
   "outputs": [
    {
     "name": "stdout",
     "output_type": "stream",
     "text": [
      "(400, 10) (100, 10)\n"
     ]
    },
    {
     "name": "stderr",
     "output_type": "stream",
     "text": [
      "/home/alex/anaconda3/envs/ray-env/lib/python3.8/site-packages/sklearn/neural_network/_multilayer_perceptron.py:702: ConvergenceWarning: Stochastic Optimizer: Maximum iterations (200) reached and the optimization hasn't converged yet.\n",
      "  warnings.warn(\n"
     ]
    }
   ],
   "source": [
    "nn_sizes = (10, 10)\n",
    "activation = 'relu'\n",
    "\n",
    "nn_desc = (nn_sizes, activation)\n",
    "\n",
    "model = MLPClassifier(hidden_layer_sizes=nn_sizes, activation=activation) #, alpha=0.001)\n",
    "\n",
    "model.fit(X_train_nn, y_train_nn)\n",
    "\n",
    "X_train = get_embeddings(model, X_train_nn)\n",
    "y_train = y_train_nn\n",
    "\n",
    "X_val = get_embeddings(model, X_val_nn)\n",
    "y_val = y_val_nn\n",
    "\n",
    "print(X_train.shape, X_val.shape)"
   ]
  },
  {
   "cell_type": "code",
   "execution_count": 8,
   "id": "bc7f605b",
   "metadata": {},
   "outputs": [],
   "source": [
    "import torch\n",
    "import numpy as np\n",
    "\n",
    "DOUBLE_INFO = torch.finfo(torch.double)\n",
    "JITTERS = [0, DOUBLE_INFO.tiny] + [10**exp for exp in range(-10, 0, 1)]\n",
    "\n",
    "\n",
    "def centered_cov(x):\n",
    "    return x.T @ x / (len(x) - 1)\n",
    "\n",
    "\n",
    "def compute_density(log_logits, label_probs):\n",
    "    return torch.sum((torch.exp(log_logits / 2) * label_probs[label_probs > 0]), dim=1)\n",
    "\n",
    "\n",
    "def get_gmm_log_probs(gaussians_model, embeddings):\n",
    "    return gaussians_model.log_prob(embeddings[:, None, :])\n",
    "\n",
    "\n",
    "def gmm_fit(embeddings, labels):\n",
    "    num_classes = len(set(labels))\n",
    "    with torch.no_grad():\n",
    "        centroids = torch.stack(\n",
    "            [torch.mean(embeddings[labels == c], dim=0) for c in range(num_classes)]\n",
    "        )\n",
    "        cov_matrix = torch.stack(\n",
    "            [\n",
    "                centered_cov(embeddings[labels == c] - centroids[c])\n",
    "                for c in range(num_classes)\n",
    "            ]\n",
    "        )\n",
    "\n",
    "    with torch.no_grad():\n",
    "        for jitter_eps in JITTERS:\n",
    "            try:\n",
    "                jitter = jitter_eps * torch.eye(\n",
    "                    cov_matrix.shape[1],\n",
    "                    device=cov_matrix.device,\n",
    "                ).unsqueeze(0)\n",
    "                gmm = torch.distributions.MultivariateNormal(\n",
    "                    loc=centroids,\n",
    "                    covariance_matrix=(cov_matrix + jitter),\n",
    "                )\n",
    "                break\n",
    "            except RuntimeError as e:\n",
    "                if \"cholesky\" in str(e):\n",
    "                    continue\n",
    "            except ValueError as e:\n",
    "                if \"The parameter covariance_matrix has invalid values\" in str(e):\n",
    "                    continue\n",
    "    return gmm, jitter_eps\n"
   ]
  },
  {
   "cell_type": "code",
   "execution_count": 9,
   "id": "41d74664",
   "metadata": {},
   "outputs": [],
   "source": [
    "def clip_to_min_max(x):\n",
    "    z = x.copy()\n",
    "    zmin = z[np.isfinite(z)].min()\n",
    "    zmax = z[np.isfinite(z)].max()\n",
    "    z[z == np.inf] = zmax\n",
    "    z[z == -np.inf] = zmin\n",
    "\n",
    "    z = np.clip(z, zmin, zmax) / zmax\n",
    "\n",
    "    return z\n"
   ]
  },
  {
   "cell_type": "code",
   "execution_count": 10,
   "id": "0b299ee5",
   "metadata": {},
   "outputs": [],
   "source": [
    "x_min, x_max = X[:, 0].min() - 1, X[:, 0].max() + 1\n",
    "y_min, y_max = X[:, 1].min() - 1, X[:, 1].max() + 1"
   ]
  },
  {
   "cell_type": "code",
   "execution_count": 11,
   "id": "1cbb4033",
   "metadata": {},
   "outputs": [
    {
     "name": "stdout",
     "output_type": "stream",
     "text": [
      "X_test.shape = (2700, 2), X_test_emb.shape = (2700, 10)\n"
     ]
    }
   ],
   "source": [
    "h_x, h_y = [0.1] * 2\n",
    "xx, yy = np.meshgrid(np.arange(x_min, x_max, h_x), np.arange(y_min, y_max, h_y))\n",
    "X_test = np.c_[xx.ravel(), yy.ravel()]\n",
    "X_test_emb = get_embeddings(model, X_test)\n",
    "print(f\"{X_test.shape = }, {X_test_emb.shape = }\")"
   ]
  },
  {
   "cell_type": "code",
   "execution_count": 12,
   "id": "59141b3e",
   "metadata": {},
   "outputs": [
    {
     "name": "stdout",
     "output_type": "stream",
     "text": [
      "search.best_params_={'bandwidth': 3.8000000000000003}\n"
     ]
    }
   ],
   "source": [
    "from sklearn.model_selection import GridSearchCV\n",
    "\n",
    "nuq_base = NUQClassifierExact()\n",
    "param_grid = {\"bandwidth\": np.linspace(0.1, 5.0, 50)}\n",
    "\n",
    "search = GridSearchCV(nuq_base, param_grid, cv=40)\n",
    "res = search.fit(X_train, y_train)\n",
    "df = pd.DataFrame(search.cv_results_)\n",
    "print(f\"{search.best_params_=}\")\n",
    "\n",
    "h_best = search.best_params_[\"bandwidth\"]"
   ]
  },
  {
   "cell_type": "markdown",
   "id": "8e869867",
   "metadata": {},
   "source": [
    "### NUQ predictions"
   ]
  },
  {
   "cell_type": "code",
   "execution_count": 13,
   "id": "dc4c4da1",
   "metadata": {},
   "outputs": [],
   "source": [
    "#eta_hat, tau = nuq_predict(X_train, y_train, X_test_emb, h=h_best)\n",
    "\n",
    "#uncertainty_total = np.c_[eta_hat, 1 - eta_hat].min(axis=-1) + 2 * np.sqrt(2 / np.pi) * tau\n",
    "\n",
    "nuq_clf = NUQClassifierExact(bandwidth=h_best)\n",
    "nuq_clf.fit(X_train, y_train)\n",
    "eta_hat, u1, u2, u3 = nuq_clf.predict_proba(X_test_emb)\n",
    "\n",
    "nuq_unc_total = u3"
   ]
  },
  {
   "cell_type": "markdown",
   "id": "83f11a58",
   "metadata": {},
   "source": [
    "### DDU predictions"
   ]
  },
  {
   "cell_type": "code",
   "execution_count": 14,
   "id": "cf28696b",
   "metadata": {},
   "outputs": [],
   "source": [
    "# DDU predictions\n",
    "device = torch.device(\"cuda\" if torch.cuda.is_available() else \"cpu\")\n",
    "X_train_torch = torch.Tensor(X_train).to(device)\n",
    "\n",
    "gmm, jitter = gmm_fit(X_train_torch, y_train)\n",
    "label_probs = torch.Tensor(np.bincount(y_train) / len(y_train)).to(device)\n",
    "\n",
    "X_test_torch = torch.Tensor(X_test_emb).to(device)\n",
    "\n",
    "log_probs = get_gmm_log_probs(gmm, X_test_torch)\n",
    "scores = compute_density(log_probs, label_probs)\n",
    "\n",
    "ddu_probs = torch.exp(log_probs).detach().cpu().numpy()\n",
    "ddu_uncertainty = clip_to_min_max(scores.detach().cpu().numpy())\n"
   ]
  },
  {
   "cell_type": "code",
   "execution_count": 15,
   "id": "3515bde1",
   "metadata": {},
   "outputs": [
    {
     "name": "stderr",
     "output_type": "stream",
     "text": [
      "/tmp/ipykernel_1936290/4236207920.py:34: RuntimeWarning: divide by zero encountered in log\n",
      "  ax[4].contourf(xx, yy, np.log(nuq_unc_total.reshape(*xx.shape)), cmap=\"inferno\")\n",
      "/tmp/ipykernel_1936290/4236207920.py:47: RuntimeWarning: divide by zero encountered in log\n",
      "  ax[7].contourf(xx, yy, np.log(ddu_uncertainty.reshape(*xx.shape)), cmap=\"inferno\")\n"
     ]
    },
    {
     "data": {
      "image/png": "[encoded data removed]",
      "text/plain": [
       "<Figure size 720x720 with 9 Axes>"
      ]
     },
     "metadata": {
      "needs_background": "light"
     },
     "output_type": "display_data"
    }
   ],
   "source": [
    "fig, ax = plt.subplots(nrows=3, ncols=3, figsize=(10, 10), sharey=True)\n",
    "\n",
    "fig.suptitle(f\"NN{nn_desc} trained on Moons data\")\n",
    "\n",
    "ax = ax.ravel()\n",
    "\n",
    "for axis in ax:\n",
    "    axis.axis(\"off\")\n",
    "ax[0].set_title(\"Raw data\")\n",
    "scatter0 = ax[0].scatter(X_train_nn[:, 0], X_train_nn[:, 1], c=y_train, cmap=\"seismic\")\n",
    "ax[0].set_xlim(x_min, x_max)\n",
    "ax[0].set_ylim(y_min, y_max)\n",
    "\n",
    "legend0 = ax[0].legend(*scatter0.legend_elements(),\n",
    "                    loc=\"lower left\", title=\"Classes\")\n",
    "ax[0].add_artist(legend0)\n",
    "\n",
    "i, j = np.random.choice(X_train.shape[1], size=2, replace=False)\n",
    "ax[1].set_title(rf\"Embeddings, x=$X_{{{i}}}$ y=$X_{{{j}}}$\")\n",
    "ax[1].scatter(X_train[:, i], X_train[:, j], c=y_train, cmap=\"seismic\")\n",
    "# ax[2].set_xlim(x_min, x_max)\n",
    "# ax[2].set_ylim(y_min, y_max)\n",
    "\n",
    "nn_pred = model.predict_proba(X_test)\n",
    "ax[2].set_title(\"Predictions of the NN model\")\n",
    "ax[2].contourf(xx, yy, nn_pred[:, 1].reshape(*xx.shape), cmap=\"seismic\")\n",
    "\n",
    "# NUQ\n",
    "\n",
    "ax[5].set_title(r\"Predictions NUQ, $\\widehat{\\eta}(x)$\")\n",
    "ax[5].contourf(xx, yy, eta_hat.reshape(*xx.shape), cmap=\"seismic\")\n",
    "\n",
    "ax[4].set_title(f\"Uncertainty NUQ (total), log\")\n",
    "ax[4].contourf(xx, yy, np.log(nuq_unc_total.reshape(*xx.shape)), cmap=\"inferno\")\n",
    "\n",
    "ax[3].set_title(f\"Uncertainty NUQ (total)\")\n",
    "ax[3].contourf(xx, yy, nuq_unc_total.reshape(*xx.shape), cmap=\"inferno\")\n",
    "\n",
    "# end NUQ\n",
    "\n",
    "# DDU\n",
    "\n",
    "ax[8].set_title(f\"Predictions DDU\")\n",
    "ax[8].contourf(xx, yy, ddu_probs[:, 0].reshape(*xx.shape), cmap=\"seismic\")\n",
    "\n",
    "ax[7].set_title(f\"Uncertainty DDU, log\")\n",
    "ax[7].contourf(xx, yy, np.log(ddu_uncertainty.reshape(*xx.shape)), cmap=\"inferno\")\n",
    "\n",
    "ax[6].set_title(f\"Uncertainty DDU\")\n",
    "ax[6].contourf(xx, yy, ddu_uncertainty.reshape(*xx.shape), cmap=\"inferno\")\n",
    "\n",
    "# end DDU\n",
    "\n",
    "plt.tight_layout()\n",
    "plt.show()"
   ]
  },
  {
   "cell_type": "code",
   "execution_count": null,
   "id": "78069691",
   "metadata": {},
   "outputs": [],
   "source": []
  }
 ],
 "metadata": {
  "kernelspec": {
   "display_name": "Python [conda env:ray-env]",
   "language": "python",
   "name": "conda-env-ray-env-py"
  },
  "language_info": {
   "codemirror_mode": {
    "name": "ipython",
    "version": 3
   },
   "file_extension": ".py",
   "mimetype": "text/x-python",
   "name": "python",
   "nbconvert_exporter": "python",
   "pygments_lexer": "ipython3",
   "version": "3.8.13"
  }
 },
 "nbformat": 4,
 "nbformat_minor": 5
}
