{
 "cells": [
  {
   "cell_type": "code",
   "execution_count": 1,
   "id": "c5752815",
   "metadata": {},
   "outputs": [],
   "source": [
    "# show C-level stderr/stdout\n",
    "%load_ext lab_black\n",
    "%load_ext wurlitzer\n",
    "%load_ext autoreload\n",
    "%autoreload 2"
   ]
  },
  {
   "cell_type": "code",
   "execution_count": 2,
   "id": "3c75e8b9",
   "metadata": {},
   "outputs": [],
   "source": [
    "import matplotlib as mpl\n",
    "\n",
    "mpl.rc(\"mathtext\", fontset=\"cm\")\n",
    "# plt.rcParams.update({\"font.size\": 14})\n",
    "# plt.rcParams[\"image.cmap\"] = \"twilight\""
   ]
  },
  {
   "cell_type": "code",
   "execution_count": 3,
   "id": "23e13761",
   "metadata": {},
   "outputs": [],
   "source": [
    "import matplotlib.pyplot as plt\n",
    "import pandas as pd\n",
    "import numpy as np\n",
    "\n",
    "from tqdm.notebook import tqdm"
   ]
  },
  {
   "cell_type": "code",
   "execution_count": 4,
   "id": "3dc8d5c1",
   "metadata": {},
   "outputs": [],
   "source": [
    "from sklearn.datasets import make_blobs, make_moons\n",
    "from sklearn.model_selection import train_test_split\n",
    "from sklearn.neural_network import MLPClassifier\n",
    "\n",
    "from nuq import NUQClassifierNaive, NuqClassifier"
   ]
  },
  {
   "cell_type": "code",
   "execution_count": 5,
   "id": "b9f5b0c4",
   "metadata": {},
   "outputs": [],
   "source": [
    "## Make a dataset\n",
    "X, y = make_moons(\n",
    "    n_samples=500,  # total_size=10_000,\n",
    "    noise=0.2,\n",
    "    random_state=42,\n",
    ")\n",
    "X_train_nn, X_val_nn, y_train_nn, y_val_nn = train_test_split(\n",
    "    X,\n",
    "    y,\n",
    "    test_size=0.2,\n",
    "    random_state=42,\n",
    "    stratify=y,\n",
    ")"
   ]
  },
  {
   "cell_type": "code",
   "execution_count": 6,
   "id": "0bedfa74",
   "metadata": {},
   "outputs": [],
   "source": [
    "# Get embeddings from sklearn\n",
    "from sklearn.neural_network._base import ACTIVATIONS\n",
    "from sklearn.utils.extmath import safe_sparse_dot\n",
    "\n",
    "\n",
    "def get_embeddings(model, X):\n",
    "\n",
    "    \"\"\"Predict using the trained model\n",
    "    This is the same as _forward_pass but does not record the activations\n",
    "    of all layers and only returns the last layer's activation.\n",
    "    Parameters\n",
    "    ----------\n",
    "    X : {array-like, sparse matrix} of shape (n_samples, n_features)\n",
    "        The input data.\n",
    "    Returns\n",
    "    -------\n",
    "    y_pred : ndarray of shape (n_samples,) or (n_samples, n_outputs)\n",
    "        The decision function of the samples for each class in the model.\n",
    "    \"\"\"\n",
    "    # X = model._validate_data(X, accept_sparse=[\"csr\", \"csc\"], reset=False)\n",
    "\n",
    "    # Initialize first layer\n",
    "    activation = X\n",
    "\n",
    "    # Forward propagate\n",
    "    hidden_activation = ACTIVATIONS[model.activation]\n",
    "    for i in range(model.n_layers_ - 2):\n",
    "        activation = safe_sparse_dot(activation, model.coefs_[i])\n",
    "        activation += model.intercepts_[i]\n",
    "        if i != model.n_layers_ - 2:\n",
    "            hidden_activation(activation)\n",
    "    # output_activation = ACTIVATIONS[self.out_activation_]\n",
    "    # output_activation(activation)\n",
    "\n",
    "    return activation"
   ]
  },
  {
   "cell_type": "code",
   "execution_count": 7,
   "id": "9673dff4",
   "metadata": {},
   "outputs": [
    {
     "name": "stdout",
     "output_type": "stream",
     "text": [
      "(400, 10) (100, 10)\n"
     ]
    },
    {
     "name": "stderr",
     "output_type": "stream",
     "text": [
      "/home/alex/anaconda3/envs/ray-env/lib/python3.8/site-packages/sklearn/neural_network/_multilayer_perceptron.py:702: ConvergenceWarning: Stochastic Optimizer: Maximum iterations (200) reached and the optimization hasn't converged yet.\n",
      "  warnings.warn(\n"
     ]
    }
   ],
   "source": [
    "nn_sizes = (10, 10)\n",
    "activation = \"relu\"\n",
    "\n",
    "nn_desc = (nn_sizes, activation)\n",
    "\n",
    "model = MLPClassifier(\n",
    "    hidden_layer_sizes=nn_sizes, activation=activation\n",
    ")  # , alpha=0.001)\n",
    "\n",
    "model.fit(X_train_nn, y_train_nn)\n",
    "\n",
    "X_train = get_embeddings(model, X_train_nn)\n",
    "y_train = y_train_nn\n",
    "\n",
    "X_val = get_embeddings(model, X_val_nn)\n",
    "y_val = y_val_nn\n",
    "\n",
    "print(X_train.shape, X_val.shape)"
   ]
  },
  {
   "cell_type": "code",
   "execution_count": 8,
   "id": "862e1f67",
   "metadata": {},
   "outputs": [],
   "source": [
    "import torch\n",
    "import numpy as np\n",
    "\n",
    "DOUBLE_INFO = torch.finfo(torch.double)\n",
    "JITTERS = [0, DOUBLE_INFO.tiny] + [10**exp for exp in range(-10, 0, 1)]\n",
    "\n",
    "\n",
    "def centered_cov(x):\n",
    "    return x.T @ x / (len(x) - 1)\n",
    "\n",
    "\n",
    "def compute_density(log_logits, label_probs):\n",
    "    return torch.sum((torch.exp(log_logits / 2) * label_probs[label_probs > 0]), dim=1)\n",
    "\n",
    "\n",
    "def get_gmm_log_probs(gaussians_model, embeddings):\n",
    "    return gaussians_model.log_prob(embeddings[:, None, :])\n",
    "\n",
    "\n",
    "def gmm_fit(embeddings, labels):\n",
    "    num_classes = len(set(labels))\n",
    "    with torch.no_grad():\n",
    "        centroids = torch.stack(\n",
    "            [torch.mean(embeddings[labels == c], dim=0) for c in range(num_classes)]\n",
    "        )\n",
    "        cov_matrix = torch.stack(\n",
    "            [\n",
    "                centered_cov(embeddings[labels == c] - centroids[c])\n",
    "                for c in range(num_classes)\n",
    "            ]\n",
    "        )\n",
    "\n",
    "    with torch.no_grad():\n",
    "        for jitter_eps in JITTERS:\n",
    "            try:\n",
    "                jitter = jitter_eps * torch.eye(\n",
    "                    cov_matrix.shape[1],\n",
    "                    device=cov_matrix.device,\n",
    "                ).unsqueeze(0)\n",
    "                gmm = torch.distributions.MultivariateNormal(\n",
    "                    loc=centroids,\n",
    "                    covariance_matrix=(cov_matrix + jitter),\n",
    "                )\n",
    "                break\n",
    "            except RuntimeError as e:\n",
    "                if \"cholesky\" in str(e):\n",
    "                    continue\n",
    "            except ValueError as e:\n",
    "                if \"The parameter covariance_matrix has invalid values\" in str(e):\n",
    "                    continue\n",
    "    return gmm, jitter_eps"
   ]
  },
  {
   "cell_type": "code",
   "execution_count": 9,
   "id": "269a077e",
   "metadata": {},
   "outputs": [],
   "source": [
    "def clip_to_min_max(x):\n",
    "    z = x.copy()\n",
    "    zmin = z[np.isfinite(z)].min()\n",
    "    zmax = z[np.isfinite(z)].max()\n",
    "    z[z == np.inf] = zmax\n",
    "    z[z == -np.inf] = zmin\n",
    "\n",
    "    z = np.clip(z, zmin, zmax) / zmax\n",
    "\n",
    "    return z"
   ]
  },
  {
   "cell_type": "code",
   "execution_count": 10,
   "id": "6ecfa165",
   "metadata": {},
   "outputs": [],
   "source": [
    "pad = 3\n",
    "x_min, x_max = X[:, 0].min() - pad, X[:, 0].max() + pad\n",
    "y_min, y_max = X[:, 1].min() - pad, X[:, 1].max() + pad"
   ]
  },
  {
   "cell_type": "code",
   "execution_count": 11,
   "id": "6decf6ee",
   "metadata": {},
   "outputs": [
    {
     "name": "stdout",
     "output_type": "stream",
     "text": [
      "X_test.shape = (8500, 2), X_test_emb.shape = (8500, 10)\n"
     ]
    }
   ],
   "source": [
    "h_x, h_y = [0.1] * 2\n",
    "xx, yy = np.meshgrid(np.arange(x_min, x_max, h_x), np.arange(y_min, y_max, h_y))\n",
    "X_test = np.c_[xx.ravel(), yy.ravel()]\n",
    "X_test_emb = get_embeddings(model, X_test)\n",
    "print(f\"{X_test.shape = }, {X_test_emb.shape = }\")"
   ]
  },
  {
   "cell_type": "markdown",
   "id": "6c745000",
   "metadata": {},
   "source": [
    "### Bandwidth selection for naive NUQ using CV Accuracy"
   ]
  },
  {
   "cell_type": "code",
   "execution_count": 12,
   "id": "07345b96",
   "metadata": {},
   "outputs": [
    {
     "name": "stdout",
     "output_type": "stream",
     "text": [
      "search.best_params_={'bandwidth': 4.3999999999999995}\n"
     ]
    }
   ],
   "source": [
    "from sklearn.model_selection import GridSearchCV\n",
    "\n",
    "nuq_base = NUQClassifierNaive()\n",
    "param_grid = {\"bandwidth\": np.linspace(0.1, 5.0, 50)}\n",
    "\n",
    "search = GridSearchCV(nuq_base, param_grid, cv=40)\n",
    "res = search.fit(X_train, y_train)\n",
    "df = pd.DataFrame(search.cv_results_)\n",
    "# print(df)\n",
    "print(f\"{search.best_params_=}\")\n",
    "\n",
    "h_best = search.best_params_[\"bandwidth\"]"
   ]
  },
  {
   "cell_type": "markdown",
   "id": "8cc2f60e",
   "metadata": {},
   "source": [
    "### Naive NUQ predictions"
   ]
  },
  {
   "cell_type": "code",
   "execution_count": 13,
   "id": "ff87a75f",
   "metadata": {},
   "outputs": [],
   "source": [
    "# eta_hat, tau = nuq_predict(X_train, y_train, X_test_emb, h=h_best)\n",
    "\n",
    "# uncertainty_total = np.c_[eta_hat, 1 - eta_hat].min(axis=-1) + 2 * np.sqrt(2 / np.pi) * tau\n",
    "\n",
    "nuq_clf = NUQClassifierNaive(bandwidth=0.21)\n",
    "nuq_clf.fit(X_train, y_train)\n",
    "eta_hat, u1, u2, u3 = nuq_clf.predict_proba(X_test_emb)\n",
    "\n",
    "nuq_unc_total = u3"
   ]
  },
  {
   "cell_type": "markdown",
   "id": "5c415b68",
   "metadata": {},
   "source": [
    "### Exact $k$NN NUQ predictions"
   ]
  },
  {
   "cell_type": "code",
   "execution_count": 14,
   "id": "214d935b",
   "metadata": {},
   "outputs": [
    {
     "data": {
      "text/plain": [
       "(8500, 400)"
      ]
     },
     "execution_count": 14,
     "metadata": {},
     "output_type": "execute_result"
    }
   ],
   "source": [
    "X_test_emb.shape[0], X_train.shape[0]"
   ]
  },
  {
   "cell_type": "code",
   "execution_count": 15,
   "id": "bd688ef8",
   "metadata": {},
   "outputs": [
    {
     "name": "stderr",
     "output_type": "stream",
     "text": [
      "2022-06-05 03:11:19,292\tINFO services.py:1374 -- View the Ray dashboard at \u001b[1m\u001b[32mhttp://127.0.0.1:8265\u001b[39m\u001b[22m\n"
     ]
    },
    {
     "name": "stdout",
     "output_type": "stream",
     "text": [
      "\u001b[2m\u001b[36m(HNSWActor pid=206324)\u001b[0m self.n_neighbors=399\n",
      "\u001b[2m\u001b[36m(HNSWActor pid=206324)\u001b[0m self.n_neighbors=359\n",
      "\u001b[2m\u001b[36m(HNSWActor pid=206315)\u001b[0m self.n_neighbors=399\n",
      "\u001b[2m\u001b[36m(HNSWActor pid=206315)\u001b[0m self.n_neighbors=359\n",
      "\u001b[2m\u001b[36m(HNSWActor pid=206329)\u001b[0m self.n_neighbors=399\n",
      "\u001b[2m\u001b[36m(HNSWActor pid=206329)\u001b[0m self.n_neighbors=359\n",
      "grid=array([0.00932224, 0.04872941, 0.25471946, 1.33147539, 6.9599186 ]), results=   fold_0  fold_1  fold_2\n",
      "0   0.950   0.950   0.925\n",
      "1   0.950   0.950   0.950\n",
      "2   0.975   0.975   0.950\n",
      "3   0.925   0.825   0.900\n",
      "4   0.925   0.825   0.900\n",
      "  [CLASSIFICATION] bandwidth = 0.2547194604671335 (score = 0.9666666666666667)\n"
     ]
    },
    {
     "data": {
      "text/html": [
       "<style>#sk-container-id-1 {color: black;background-color: white;}#sk-container-id-1 pre{padding: 0;}#sk-container-id-1 div.sk-toggleable {background-color: white;}#sk-container-id-1 label.sk-toggleable__label {cursor: pointer;display: block;width: 100%;margin-bottom: 0;padding: 0.3em;box-sizing: border-box;text-align: center;}#sk-container-id-1 label.sk-toggleable__label-arrow:before {content: \"▸\";float: left;margin-right: 0.25em;color: #696969;}#sk-container-id-1 label.sk-toggleable__label-arrow:hover:before {color: black;}#sk-container-id-1 div.sk-estimator:hover label.sk-toggleable__label-arrow:before {color: black;}#sk-container-id-1 div.sk-toggleable__content {max-height: 0;max-width: 0;overflow: hidden;text-align: left;background-color: #f0f8ff;}#sk-container-id-1 div.sk-toggleable__content pre {margin: 0.2em;color: black;border-radius: 0.25em;background-color: #f0f8ff;}#sk-container-id-1 input.sk-toggleable__control:checked~div.sk-toggleable__content {max-height: 200px;max-width: 100%;overflow: auto;}#sk-container-id-1 input.sk-toggleable__control:checked~label.sk-toggleable__label-arrow:before {content: \"▾\";}#sk-container-id-1 div.sk-estimator input.sk-toggleable__control:checked~label.sk-toggleable__label {background-color: #d4ebff;}#sk-container-id-1 div.sk-label input.sk-toggleable__control:checked~label.sk-toggleable__label {background-color: #d4ebff;}#sk-container-id-1 input.sk-hidden--visually {border: 0;clip: rect(1px 1px 1px 1px);clip: rect(1px, 1px, 1px, 1px);height: 1px;margin: -1px;overflow: hidden;padding: 0;position: absolute;width: 1px;}#sk-container-id-1 div.sk-estimator {font-family: monospace;background-color: #f0f8ff;border: 1px dotted black;border-radius: 0.25em;box-sizing: border-box;margin-bottom: 0.5em;}#sk-container-id-1 div.sk-estimator:hover {background-color: #d4ebff;}#sk-container-id-1 div.sk-parallel-item::after {content: \"\";width: 100%;border-bottom: 1px solid gray;flex-grow: 1;}#sk-container-id-1 div.sk-label:hover label.sk-toggleable__label {background-color: #d4ebff;}#sk-container-id-1 div.sk-serial::before {content: \"\";position: absolute;border-left: 1px solid gray;box-sizing: border-box;top: 0;bottom: 0;left: 50%;z-index: 0;}#sk-container-id-1 div.sk-serial {display: flex;flex-direction: column;align-items: center;background-color: white;padding-right: 0.2em;padding-left: 0.2em;position: relative;}#sk-container-id-1 div.sk-item {position: relative;z-index: 1;}#sk-container-id-1 div.sk-parallel {display: flex;align-items: stretch;justify-content: center;background-color: white;position: relative;}#sk-container-id-1 div.sk-item::before, #sk-container-id-1 div.sk-parallel-item::before {content: \"\";position: absolute;border-left: 1px solid gray;box-sizing: border-box;top: 0;bottom: 0;left: 50%;z-index: -1;}#sk-container-id-1 div.sk-parallel-item {display: flex;flex-direction: column;z-index: 1;position: relative;background-color: white;}#sk-container-id-1 div.sk-parallel-item:first-child::after {align-self: flex-end;width: 50%;}#sk-container-id-1 div.sk-parallel-item:last-child::after {align-self: flex-start;width: 50%;}#sk-container-id-1 div.sk-parallel-item:only-child::after {width: 0;}#sk-container-id-1 div.sk-dashed-wrapped {border: 1px dashed gray;margin: 0 0.4em 0.5em 0.4em;box-sizing: border-box;padding-bottom: 0.4em;background-color: white;}#sk-container-id-1 div.sk-label label {font-family: monospace;font-weight: bold;display: inline-block;line-height: 1.2em;}#sk-container-id-1 div.sk-label-container {text-align: center;}#sk-container-id-1 div.sk-container {/* jupyter's `normalize.less` sets `[hidden] { display: none; }` but bootstrap.min.css set `[hidden] { display: none !important; }` so we also need the `!important` here to be able to override the default hidden behavior on the sphinx rendered scikit-learn.org. See: https://github.com/scikit-learn/scikit-learn/issues/21755 */display: inline-block !important;position: relative;}#sk-container-id-1 div.sk-text-repr-fallback {display: none;}</style><div id=\"sk-container-id-1\" class=\"sk-top-container\"><div class=\"sk-text-repr-fallback\"><pre>NuqClassifier(brute_force=True, n_neighbors=399, sparse=False)</pre><b>In a Jupyter environment, please rerun this cell to show the HTML representation or trust the notebook. <br />On GitHub, the HTML representation is unable to render, please try loading this page with nbviewer.org.</b></div><div class=\"sk-container\" hidden><div class=\"sk-item\"><div class=\"sk-estimator sk-toggleable\"><input class=\"sk-toggleable__control sk-hidden--visually\" id=\"sk-estimator-id-1\" type=\"checkbox\" checked><label for=\"sk-estimator-id-1\" class=\"sk-toggleable__label sk-toggleable__label-arrow\">NuqClassifier</label><div class=\"sk-toggleable__content\"><pre>NuqClassifier(brute_force=True, n_neighbors=399, sparse=False)</pre></div></div></div></div></div>"
      ],
      "text/plain": [
       "NuqClassifier(brute_force=True, n_neighbors=399, sparse=False)"
      ]
     },
     "execution_count": 15,
     "metadata": {},
     "output_type": "execute_result"
    }
   ],
   "source": [
    "nuq_knn_clf = NuqClassifier(\n",
    "    n_neighbors=X_train.shape[0] - 1, sparse=False, brute_force=True\n",
    ")\n",
    "nuq_knn_clf.fit(X_train, y_train)"
   ]
  },
  {
   "cell_type": "code",
   "execution_count": 16,
   "id": "dbea4f23",
   "metadata": {},
   "outputs": [
    {
     "name": "stdout",
     "output_type": "stream",
     "text": [
      "\u001b[2m\u001b[36m(HNSWActor pid=206312)\u001b[0m self.n_neighbors=399\n",
      "\u001b[2m\u001b[36m(HNSWActor pid=206312)\u001b[0m self.n_neighbors=399\n"
     ]
    },
    {
     "name": "stderr",
     "output_type": "stream",
     "text": [
      "/home/alex/repos/NUQ/nuq/nuq_classifier.py:267: RuntimeWarning: divide by zero encountered in log1p\n",
      "  return probs, np.log1p(-np.exp(log_proba))\n",
      "/tmp/ipykernel_206110/3859429361.py:8: RuntimeWarning: overflow encountered in exp\n",
      "  knn_unc_total = np.exp(log_unc_al) + 2 * np.sqrt(2 / np.pi) * nuq_clf.K2_ * np.exp(\n"
     ]
    }
   ],
   "source": [
    "# eta_hat, u1, u2, u3 = nuq_clf.predict_proba(X_test_emb)\n",
    "probs, log_unc_ep = nuq_knn_clf.predict_proba(\n",
    "    X_test_emb, return_uncertainty=\"epistemic\"\n",
    ")\n",
    "\n",
    "_, log_unc_al = nuq_knn_clf.predict_proba(X_test_emb, return_uncertainty=\"aleatoric\")\n",
    "\n",
    "knn_unc_total = np.exp(log_unc_al) + 2 * np.sqrt(2 / np.pi) * nuq_clf.K2_ * np.exp(\n",
    "    log_unc_ep\n",
    ")\n",
    "\n",
    "probs[:, 1 - np.argmax(probs, axis=-1)] = 1 - probs.max(axis=-1)"
   ]
  },
  {
   "cell_type": "code",
   "execution_count": 17,
   "id": "5975f35d",
   "metadata": {},
   "outputs": [
    {
     "data": {
      "text/plain": [
       "(-0.6931471805599454,\n",
       " 0,\n",
       " ObjectRef(ffffffffffffffffffffffffffffffffffffffff0100000001000000))"
      ]
     },
     "execution_count": 17,
     "metadata": {},
     "output_type": "execute_result"
    }
   ],
   "source": [
    "nuq_knn_clf.log_prior_default_, nuq_knn_clf.class_default_, nuq_knn_clf.log_prior_ref_"
   ]
  },
  {
   "cell_type": "code",
   "execution_count": 18,
   "id": "01318f63",
   "metadata": {},
   "outputs": [
    {
     "data": {
      "text/plain": [
       "0.49999999999999994"
      ]
     },
     "execution_count": 18,
     "metadata": {},
     "output_type": "execute_result"
    }
   ],
   "source": [
    "np.exp(nuq_knn_clf.log_prior_default_)"
   ]
  },
  {
   "cell_type": "code",
   "execution_count": 19,
   "id": "10f47bfa",
   "metadata": {},
   "outputs": [
    {
     "data": {
      "text/plain": [
       "array([0.97709932, 0.97940364, 0.98137854, 0.98316836, 0.98478993])"
      ]
     },
     "execution_count": 19,
     "metadata": {},
     "output_type": "execute_result"
    },
    {
     "name": "stderr",
     "output_type": "stream",
     "text": [
      "\u001b[2m\u001b[33m(raylet)\u001b[0m /home/alex/anaconda3/envs/ray-env/lib/python3.8/site-packages/ray/dashboard/agent.py:152: DeprecationWarning: distutils Version classes are deprecated. Use packaging.version instead.\n",
      "\u001b[2m\u001b[33m(raylet)\u001b[0m   if LooseVersion(aiohttp.__version__) < LooseVersion(\"4.0.0\"):\n"
     ]
    }
   ],
   "source": [
    "eta_hat[:5]"
   ]
  },
  {
   "cell_type": "code",
   "execution_count": 20,
   "id": "c2c7d96d",
   "metadata": {},
   "outputs": [
    {
     "data": {
      "text/plain": [
       "array([0.06259096, 0.06259096, 0.06259096, 0.06259096, 0.06259096],\n",
       "      dtype=float32)"
      ]
     },
     "execution_count": 20,
     "metadata": {},
     "output_type": "execute_result"
    }
   ],
   "source": [
    "probs[:5, 1]"
   ]
  },
  {
   "cell_type": "markdown",
   "id": "514276ed",
   "metadata": {},
   "source": [
    "### DDU predictions"
   ]
  },
  {
   "cell_type": "code",
   "execution_count": 21,
   "id": "bc9c7bd1",
   "metadata": {},
   "outputs": [],
   "source": [
    "# DDU predictions\n",
    "device = torch.device(\"cuda\" if torch.cuda.is_available() else \"cpu\")\n",
    "X_train_torch = torch.Tensor(X_train).to(device)\n",
    "\n",
    "gmm, jitter = gmm_fit(X_train_torch, y_train)\n",
    "label_probs = torch.Tensor(np.bincount(y_train) / len(y_train)).to(device)\n",
    "\n",
    "X_test_torch = torch.Tensor(X_test_emb).to(device)\n",
    "\n",
    "log_probs = get_gmm_log_probs(gmm, X_test_torch)\n",
    "scores = compute_density(log_probs, label_probs)\n",
    "\n",
    "ddu_probs = torch.exp(log_probs).detach().cpu().numpy()\n",
    "ddu_uncertainty = clip_to_min_max(scores.detach().cpu().numpy())"
   ]
  },
  {
   "cell_type": "code",
   "execution_count": 22,
   "id": "29175ca1",
   "metadata": {},
   "outputs": [
    {
     "name": "stderr",
     "output_type": "stream",
     "text": [
      "/tmp/ipykernel_206110/3846596547.py:42: RuntimeWarning: divide by zero encountered in log\n",
      "  ax[7].contourf(xx, yy, np.log(knn_unc_total.reshape(*xx.shape)), cmap=\"inferno\")\n",
      "/tmp/ipykernel_206110/3846596547.py:55: RuntimeWarning: divide by zero encountered in log\n",
      "  ax[10].contourf(xx, yy, np.log(ddu_uncertainty.reshape(*xx.shape)), cmap=\"inferno\")\n"
     ]
    },
    {
     "data": {
      "image/png": "[encoded data removed]",
      "text/plain": [
       "<Figure size 720x720 with 12 Axes>"
      ]
     },
     "metadata": {
      "needs_background": "light"
     },
     "output_type": "display_data"
    }
   ],
   "source": [
    "fig, ax = plt.subplots(nrows=4, ncols=3, figsize=(10, 10), sharey=True)\n",
    "\n",
    "fig.suptitle(f\"NN{nn_desc} trained on Moons data\")\n",
    "\n",
    "ax = ax.ravel()\n",
    "\n",
    "ax[0].set_title(\"Raw data\")\n",
    "scatter0 = ax[0].scatter(X_train_nn[:, 0], X_train_nn[:, 1], c=y_train, cmap=\"seismic\")\n",
    "\n",
    "legend0 = ax[0].legend(*scatter0.legend_elements(), loc=\"lower left\", title=\"Classes\")\n",
    "ax[0].add_artist(legend0)\n",
    "\n",
    "i, j = np.random.choice(X_train.shape[1], size=2, replace=False)\n",
    "ax[1].set_title(rf\"Embeddings, x=$X_{{{i}}}$ y=$X_{{{j}}}$\")\n",
    "ax[1].scatter(X_train[:, i], X_train[:, j], c=y_train, cmap=\"seismic\")\n",
    "# ax[2].set_xlim(x_min, x_max)\n",
    "# ax[2].set_ylim(y_min, y_max)\n",
    "\n",
    "nn_pred = model.predict_proba(X_test)\n",
    "ax[2].set_title(\"Predictions of the NN model\")\n",
    "ax[2].contourf(xx, yy, nn_pred[:, 1].reshape(*xx.shape), cmap=\"seismic\")\n",
    "\n",
    "# NUQ\n",
    "\n",
    "ax[5].set_title(r\"Predictions NUQ-naive, $\\widehat{\\eta}(x)$\")\n",
    "ax[5].contourf(xx, yy, eta_hat.reshape(*xx.shape), cmap=\"seismic\")\n",
    "\n",
    "ax[4].set_title(f\"Uncertainty NUQ-naive (total), log\")\n",
    "ax[4].contourf(xx, yy, np.log(u2.reshape(*xx.shape)), cmap=\"inferno\")\n",
    "\n",
    "ax[3].set_title(f\"Uncertainty NUQ-naive (total)\")\n",
    "ax[3].contourf(xx, yy, u2.reshape(*xx.shape), cmap=\"inferno\")\n",
    "\n",
    "# end NUQ\n",
    "\n",
    "# kNN\n",
    "\n",
    "ax[8].set_title(f\"Predictions NUQ-kNN-exact\")\n",
    "ax[8].contourf(xx, yy, ddu_probs[:, 0].reshape(*xx.shape), cmap=\"seismic\")\n",
    "\n",
    "ax[7].set_title(f\"Uncertainty NUQ-kNN-exact, log\")\n",
    "ax[7].contourf(xx, yy, np.log(knn_unc_total.reshape(*xx.shape)), cmap=\"inferno\")\n",
    "\n",
    "ax[6].set_title(f\"Uncertainty NUQ-kNN-exact\")\n",
    "ax[6].contourf(xx, yy, knn_unc_total.reshape(*xx.shape), cmap=\"inferno\")\n",
    "\n",
    "# end kNN\n",
    "\n",
    "# DDU\n",
    "\n",
    "ax[11].set_title(f\"Predictions DDU\")\n",
    "ax[11].contourf(xx, yy, ddu_probs[:, 0].reshape(*xx.shape), cmap=\"seismic\")\n",
    "\n",
    "ax[10].set_title(f\"Uncertainty DDU, log\")\n",
    "ax[10].contourf(xx, yy, np.log(ddu_uncertainty.reshape(*xx.shape)), cmap=\"inferno\")\n",
    "\n",
    "ax[9].set_title(f\"Uncertainty DDU\")\n",
    "ax[9].contourf(xx, yy, ddu_uncertainty.reshape(*xx.shape), cmap=\"inferno\")\n",
    "\n",
    "# end DDU\n",
    "\n",
    "for axis in ax:\n",
    "    axis.axis(\"off\")\n",
    "    axis.set_xlim(x_min, x_max)\n",
    "    axis.set_ylim(y_min, y_max)\n",
    "\n",
    "plt.tight_layout()\n",
    "plt.show()"
   ]
  },
  {
   "cell_type": "code",
   "execution_count": 23,
   "id": "a59f82ed",
   "metadata": {},
   "outputs": [
    {
     "data": {
      "text/plain": [
       "5.092379217080512e-06"
      ]
     },
     "execution_count": 23,
     "metadata": {},
     "output_type": "execute_result"
    }
   ],
   "source": [
    "2 * np.sqrt(2 / np.pi) * nuq_clf.K2_"
   ]
  },
  {
   "cell_type": "code",
   "execution_count": 24,
   "id": "89ccae6b",
   "metadata": {},
   "outputs": [
    {
     "data": {
      "text/plain": [
       "(array([0.02290068, 0.02059636, 0.01862146, ..., 0.21237551, 0.23120693,\n",
       "        0.2511382 ]),\n",
       " array([0.0117995 , 0.01064778, 0.00965539, ..., 0.15643448, 0.1731717 ,\n",
       "        0.19165167]))"
      ]
     },
     "execution_count": 24,
     "metadata": {},
     "output_type": "execute_result"
    },
    {
     "name": "stderr",
     "output_type": "stream",
     "text": [
      "\u001b[2m\u001b[33m(raylet)\u001b[0m /home/alex/anaconda3/envs/ray-env/lib/python3.8/site-packages/ray/dashboard/agent.py:152: DeprecationWarning: distutils Version classes are deprecated. Use packaging.version instead.\n",
      "\u001b[2m\u001b[33m(raylet)\u001b[0m   if LooseVersion(aiohttp.__version__) < LooseVersion(\"4.0.0\"):\n",
      "\u001b[2m\u001b[33m(raylet)\u001b[0m /home/alex/anaconda3/envs/ray-env/lib/python3.8/site-packages/ray/dashboard/agent.py:152: DeprecationWarning: distutils Version classes are deprecated. Use packaging.version instead.\n",
      "\u001b[2m\u001b[33m(raylet)\u001b[0m   if LooseVersion(aiohttp.__version__) < LooseVersion(\"4.0.0\"):\n",
      "\u001b[2m\u001b[33m(raylet)\u001b[0m /home/alex/anaconda3/envs/ray-env/lib/python3.8/site-packages/ray/dashboard/agent.py:152: DeprecationWarning: distutils Version classes are deprecated. Use packaging.version instead.\n",
      "\u001b[2m\u001b[33m(raylet)\u001b[0m   if LooseVersion(aiohttp.__version__) < LooseVersion(\"4.0.0\"):\n",
      "\u001b[2m\u001b[33m(raylet)\u001b[0m /home/alex/anaconda3/envs/ray-env/lib/python3.8/site-packages/ray/dashboard/agent.py:152: DeprecationWarning: distutils Version classes are deprecated. Use packaging.version instead.\n",
      "\u001b[2m\u001b[33m(raylet)\u001b[0m   if LooseVersion(aiohttp.__version__) < LooseVersion(\"4.0.0\"):\n",
      "2022-06-05 03:12:25,349\tWARNING worker.py:1257 -- (ip=10.16.84.14) The agent on node statml3 failed to be restarted 5 times. There are 3 possible problems if you see this error.\n",
      "  1. The dashboard might not display correct information on this node.\n",
      "  2. Metrics on this node won't be reported.\n",
      "  3. runtime_env APIs won't work.\n",
      "Check out the `dashboard_agent.log` to see the detailed failure messages.\n"
     ]
    }
   ],
   "source": [
    "u1, u2"
   ]
  },
  {
   "cell_type": "code",
   "execution_count": null,
   "id": "02256620",
   "metadata": {},
   "outputs": [],
   "source": []
  }
 ],
 "metadata": {
  "kernelspec": {
   "display_name": "Python [conda env:ray-env]",
   "language": "python",
   "name": "conda-env-ray-env-py"
  },
  "language_info": {
   "codemirror_mode": {
    "name": "ipython",
    "version": 3
   },
   "file_extension": ".py",
   "mimetype": "text/x-python",
   "name": "python",
   "nbconvert_exporter": "python",
   "pygments_lexer": "ipython3",
   "version": "3.8.13"
  }
 },
 "nbformat": 4,
 "nbformat_minor": 5
}
