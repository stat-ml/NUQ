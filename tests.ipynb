{
 "cells": [
  {
   "cell_type": "code",
   "execution_count": 1,
   "metadata": {},
   "outputs": [],
   "source": [
    "from nuq import NuqClassifier\n",
    "\n",
    "import numpy as np\n",
    "from tqdm.auto import tqdm\n",
    "\n",
    "%load_ext autoreload\n",
    "%autoreload 2"
   ]
  },
  {
   "cell_type": "code",
   "execution_count": 2,
   "metadata": {},
   "outputs": [],
   "source": [
    "n_points = 100\n",
    "circle_r = 10\n",
    "dim = 2\n",
    "h = 4\n",
    "\n",
    "method = 'all_data' # all_data\n",
    "kernel = 'RBF'\n",
    "use_uniform_prior = False"
   ]
  },
  {
   "cell_type": "code",
   "execution_count": null,
   "metadata": {},
   "outputs": [],
   "source": [
    "def generate_points_on_circle(circle_r=10, circle_x=0, circle_y=0, n_points=10, uniform=True):\n",
    "    if not uniform:\n",
    "        alpha = 2 * np.pi * np.random.rand(n_points)\n",
    "    else:\n",
    "        alpha = 2 * np.pi * np.linspace(start=0, stop=1, num=n_points)\n",
    "\n",
    "    x = circle_r * np.cos(alpha) + circle_x\n",
    "    y = circle_r * np.sin(alpha) + circle_y\n",
    "\n",
    "    return np.vstack((x, y)).T"
   ]
  },
  {
   "cell_type": "code",
   "execution_count": null,
   "metadata": {},
   "outputs": [],
   "source": [
    "X = generate_points_on_circle(n_points=n_points, circle_r=circle_r)"
   ]
  },
  {
   "cell_type": "code",
   "execution_count": 5,
   "metadata": {},
   "outputs": [],
   "source": [
    "import matplotlib.pyplot as plt\n",
    "%matplotlib widget"
   ]
  },
  {
   "cell_type": "code",
   "execution_count": 6,
   "metadata": {},
   "outputs": [
    {
     "data": {
      "application/vnd.jupyter.widget-view+json": {
       "model_id": "6dfa0712ddbf4c42a15b219f90647596",
       "version_major": 2,
       "version_minor": 0
      },
      "text/plain": [
       "Canvas(toolbar=Toolbar(toolitems=[('Home', 'Reset original view', 'home', 'home'), ('Back', 'Back to previous …"
      ]
     },
     "metadata": {},
     "output_type": "display_data"
    }
   ],
   "source": [
    "plt.close()\n",
    "plt.figure()\n",
    "\n",
    "plt.scatter(X[:, 0], X[:, 1])\n",
    "plt.scatter(0, 0, color='red')\n",
    "plt.axis('equal')\n",
    "plt.show();"
   ]
  },
  {
   "cell_type": "code",
   "execution_count": 7,
   "metadata": {},
   "outputs": [],
   "source": [
    "nuq = NuqClassifier(\n",
    "    kernel_type=kernel,\n",
    "    use_uniform_prior=use_uniform_prior,\n",
    "    method=method,\n",
    "    tune_bandwidth=False,\n",
    "    bandwidth=np.array([h, h])\n",
    ")"
   ]
  },
  {
   "cell_type": "code",
   "execution_count": 8,
   "metadata": {},
   "outputs": [],
   "source": [
    "y = np.zeros(X.shape[0], dtype='int')"
   ]
  },
  {
   "cell_type": "code",
   "execution_count": 9,
   "metadata": {},
   "outputs": [
    {
     "data": {
      "text/plain": [
       "NuqClassifier(bandwidth=array([4, 4]), method='all_data', n_neighbors=100,\n",
       "              tune_bandwidth=False, use_uniform_prior=False)"
      ]
     },
     "execution_count": 9,
     "metadata": {},
     "output_type": "execute_result"
    }
   ],
   "source": [
    "nuq.fit(X, y)"
   ]
  },
  {
   "cell_type": "code",
   "execution_count": null,
   "metadata": {},
   "outputs": [],
   "source": []
  },
  {
   "cell_type": "code",
   "execution_count": 10,
   "metadata": {},
   "outputs": [],
   "source": [
    "def test_circle(nuq_trained, dim, r, i=0):\n",
    "    origin = np.zeros((1, dim))\n",
    "    rand_vect = np.random.randn(1, dim)\n",
    "    N = nuq_trained.n_neighbors\n",
    "    \n",
    "    kde_pred = nuq_trained.get_kde(origin)\n",
    "    kernel_output = nuq_trained.kernel(rand_vect, rand_vect)\n",
    "    uncertainties_pred = nuq_trained.predict_uncertainty(np.zeros((1, 2)), )\n",
    "    \n",
    "    aleatoric_pred = uncertainties_pred['aleatoric']\n",
    "    epistemic_pred = uncertainties_pred['epistemic']\n",
    "    \n",
    "    if len(np.unique(nuq_trained.bandwidth)) > 1:\n",
    "        raise ValueError('Bandwidth must be isotropic')\n",
    "    h = nuq_trained.bandwidth[0]\n",
    "    KDE_error = np.abs(-dim * (np.log(2 * np.pi) * 0.5 + np.log(h)) - (r**2 / (2 * h**2)) - kde_pred)\n",
    "    Kernel_error = np.abs(-dim / 2. * np.log(2 * np.pi) - kernel_output)\n",
    "    Aleatoric_error = np.abs(np.log(nuq_trained.coeff + min(1 - i / N, i / N)) - aleatoric_pred)\n",
    "    Epistemic_error = np.abs((6 - dim) * 0.25 * np.log(2.) - 0.5 * np.log(np.pi) - 0.5 * np.log(nuq_trained.n_neighbors) + \n",
    "                             0.5 * np.log(nuq_trained.coeff + i * (N - i) / N ** 2) + (r**2 / (4 * h**2)) - epistemic_pred)\n",
    "    \n",
    "    \n",
    "    print(f'{KDE_error=}')\n",
    "    print(f'{Kernel_error=}')\n",
    "    print(f'{Aleatoric_error=}')\n",
    "    print(f'{Epistemic_error=}')\n",
    "    \n",
    "    return {\n",
    "        \"kde_pred\": kde_pred,\n",
    "        \"kernel_output\": kernel_output,\n",
    "        **uncertainties_pred\n",
    "    }"
   ]
  },
  {
   "cell_type": "code",
   "execution_count": null,
   "metadata": {},
   "outputs": [],
   "source": []
  },
  {
   "cell_type": "code",
   "execution_count": 11,
   "metadata": {},
   "outputs": [],
   "source": [
    "# print(\"KDE error:\", -dim * (np.log(2 * np.pi) * 0.5 + np.log(h)) - (circle_r**2 / (2 * h**2)) - nuq.get_kde(np.zeros((1, 2))))"
   ]
  },
  {
   "cell_type": "code",
   "execution_count": 12,
   "metadata": {},
   "outputs": [],
   "source": [
    "# print(\"Ue error:\", (6 - dim) * 0.25 * np.log(2.) - 0.5 * np.log(np.pi) - 0.5 * np.log(nuq.n_neighbors) + 0.5 * np.log(nuq.coeff) + (circle_r**2 / (4 * h**2))- uncertainties['epistemic'])"
   ]
  },
  {
   "cell_type": "code",
   "execution_count": 13,
   "metadata": {},
   "outputs": [],
   "source": [
    "# rand_vect = np.random.randn(1, 2)\n",
    "# print(\"Kernel:\", -dim / 2. * np.log(2 * np.pi) - nuq.kernel(rand_vect, rand_vect))"
   ]
  },
  {
   "cell_type": "code",
   "execution_count": null,
   "metadata": {},
   "outputs": [],
   "source": []
  },
  {
   "cell_type": "code",
   "execution_count": 14,
   "metadata": {},
   "outputs": [
    {
     "name": "stdout",
     "output_type": "stream",
     "text": [
      "KDE_error=array([[8.8817842e-16]])\n",
      "Kernel_error=array([0.])\n",
      "Aleatoric_error=0.0\n",
      "Epistemic_error=8.881784197001252e-16\n"
     ]
    }
   ],
   "source": [
    "_ = test_circle(nuq_trained=nuq, dim=dim, r=circle_r)"
   ]
  },
  {
   "cell_type": "code",
   "execution_count": null,
   "metadata": {},
   "outputs": [],
   "source": []
  },
  {
   "cell_type": "code",
   "execution_count": 15,
   "metadata": {},
   "outputs": [],
   "source": [
    "indices = np.random.permutation(np.arange(n_points))"
   ]
  },
  {
   "cell_type": "code",
   "execution_count": 16,
   "metadata": {},
   "outputs": [
    {
     "data": {
      "application/vnd.jupyter.widget-view+json": {
       "model_id": "5028d73b6eb841e793ee538dd0c695c1",
       "version_major": 2,
       "version_minor": 0
      },
      "text/plain": [
       "  0%|          | 0/101 [00:00<?, ?it/s]"
      ]
     },
     "metadata": {},
     "output_type": "display_data"
    },
    {
     "name": "stdout",
     "output_type": "stream",
     "text": [
      "KDE_error=array([[8.8817842e-16]])\n",
      "Kernel_error=array([0.])\n",
      "Aleatoric_error=0.0\n",
      "Epistemic_error=8.881784197001252e-16\n",
      "KDE_error=array([[8.8817842e-16]])\n",
      "Kernel_error=array([0.])\n",
      "Aleatoric_error=0.0\n",
      "Epistemic_error=4.440892098500626e-16\n",
      "KDE_error=array([[8.8817842e-16]])\n",
      "Kernel_error=array([0.])\n",
      "Aleatoric_error=4.440892098500626e-16\n",
      "Epistemic_error=4.440892098500626e-16\n",
      "KDE_error=array([[8.8817842e-16]])\n",
      "Kernel_error=array([0.])\n",
      "Aleatoric_error=8.881784197001252e-16\n",
      "Epistemic_error=8.881784197001252e-16\n",
      "KDE_error=array([[8.8817842e-16]])\n",
      "Kernel_error=array([0.])\n",
      "Aleatoric_error=4.440892098500626e-16\n",
      "Epistemic_error=4.440892098500626e-16\n",
      "KDE_error=array([[8.8817842e-16]])\n",
      "Kernel_error=array([0.])\n",
      "Aleatoric_error=4.440892098500626e-16\n",
      "Epistemic_error=4.440892098500626e-16\n",
      "KDE_error=array([[8.8817842e-16]])\n",
      "Kernel_error=array([0.])\n",
      "Aleatoric_error=4.440892098500626e-16\n",
      "Epistemic_error=4.440892098500626e-16\n",
      "KDE_error=array([[8.8817842e-16]])\n",
      "Kernel_error=array([0.])\n",
      "Aleatoric_error=0.0\n",
      "Epistemic_error=4.440892098500626e-16\n",
      "KDE_error=array([[8.8817842e-16]])\n",
      "Kernel_error=array([0.])\n",
      "Aleatoric_error=0.0\n",
      "Epistemic_error=4.440892098500626e-16\n",
      "KDE_error=array([[8.8817842e-16]])\n",
      "Kernel_error=array([0.])\n",
      "Aleatoric_error=4.440892098500626e-16\n",
      "Epistemic_error=4.440892098500626e-16\n",
      "KDE_error=array([[8.8817842e-16]])\n",
      "Kernel_error=array([0.])\n",
      "Aleatoric_error=4.440892098500626e-16\n",
      "Epistemic_error=0.0\n",
      "KDE_error=array([[8.8817842e-16]])\n",
      "Kernel_error=array([0.])\n",
      "Aleatoric_error=0.0\n",
      "Epistemic_error=4.440892098500626e-16\n",
      "KDE_error=array([[8.8817842e-16]])\n",
      "Kernel_error=array([0.])\n",
      "Aleatoric_error=0.0\n",
      "Epistemic_error=4.440892098500626e-16\n",
      "KDE_error=array([[8.8817842e-16]])\n",
      "Kernel_error=array([0.])\n",
      "Aleatoric_error=0.0\n",
      "Epistemic_error=0.0\n",
      "KDE_error=array([[8.8817842e-16]])\n",
      "Kernel_error=array([0.])\n",
      "Aleatoric_error=2.220446049250313e-16\n",
      "Epistemic_error=0.0\n",
      "KDE_error=array([[8.8817842e-16]])\n",
      "Kernel_error=array([0.])\n",
      "Aleatoric_error=0.0\n",
      "Epistemic_error=4.440892098500626e-16\n",
      "KDE_error=array([[8.8817842e-16]])\n",
      "Kernel_error=array([0.])\n",
      "Aleatoric_error=0.0\n",
      "Epistemic_error=4.440892098500626e-16\n",
      "KDE_error=array([[8.8817842e-16]])\n",
      "Kernel_error=array([0.])\n",
      "Aleatoric_error=4.440892098500626e-16\n",
      "Epistemic_error=0.0\n",
      "KDE_error=array([[8.8817842e-16]])\n",
      "Kernel_error=array([0.])\n",
      "Aleatoric_error=4.440892098500626e-16\n",
      "Epistemic_error=4.440892098500626e-16\n",
      "KDE_error=array([[8.8817842e-16]])\n",
      "Kernel_error=array([0.])\n",
      "Aleatoric_error=4.440892098500626e-16\n",
      "Epistemic_error=8.881784197001252e-16\n",
      "KDE_error=array([[8.8817842e-16]])\n",
      "Kernel_error=array([0.])\n",
      "Aleatoric_error=2.220446049250313e-16\n",
      "Epistemic_error=4.440892098500626e-16\n",
      "KDE_error=array([[8.8817842e-16]])\n",
      "Kernel_error=array([0.])\n",
      "Aleatoric_error=2.220446049250313e-16\n",
      "Epistemic_error=4.440892098500626e-16\n",
      "KDE_error=array([[8.8817842e-16]])\n",
      "Kernel_error=array([0.])\n",
      "Aleatoric_error=4.440892098500626e-16\n",
      "Epistemic_error=4.440892098500626e-16\n",
      "KDE_error=array([[8.8817842e-16]])\n",
      "Kernel_error=array([0.])\n",
      "Aleatoric_error=0.0\n",
      "Epistemic_error=4.440892098500626e-16\n",
      "KDE_error=array([[8.8817842e-16]])\n",
      "Kernel_error=array([0.])\n",
      "Aleatoric_error=6.661338147750939e-16\n",
      "Epistemic_error=4.440892098500626e-16\n",
      "KDE_error=array([[8.8817842e-16]])\n",
      "Kernel_error=array([0.])\n",
      "Aleatoric_error=2.220446049250313e-16\n",
      "Epistemic_error=4.440892098500626e-16\n",
      "KDE_error=array([[8.8817842e-16]])\n",
      "Kernel_error=array([0.])\n",
      "Aleatoric_error=6.661338147750939e-16\n",
      "Epistemic_error=8.881784197001252e-16\n",
      "KDE_error=array([[8.8817842e-16]])\n",
      "Kernel_error=array([0.])\n",
      "Aleatoric_error=4.440892098500626e-16\n",
      "Epistemic_error=4.440892098500626e-16\n",
      "KDE_error=array([[8.8817842e-16]])\n",
      "Kernel_error=array([0.])\n",
      "Aleatoric_error=2.220446049250313e-16\n",
      "Epistemic_error=4.440892098500626e-16\n",
      "KDE_error=array([[8.8817842e-16]])\n",
      "Kernel_error=array([0.])\n",
      "Aleatoric_error=4.440892098500626e-16\n",
      "Epistemic_error=4.440892098500626e-16\n",
      "KDE_error=array([[8.8817842e-16]])\n",
      "Kernel_error=array([0.])\n",
      "Aleatoric_error=6.661338147750939e-16\n",
      "Epistemic_error=8.881784197001252e-16\n",
      "KDE_error=array([[8.8817842e-16]])\n",
      "Kernel_error=array([0.])\n",
      "Aleatoric_error=4.440892098500626e-16\n",
      "Epistemic_error=8.881784197001252e-16\n",
      "KDE_error=array([[8.8817842e-16]])\n",
      "Kernel_error=array([0.])\n",
      "Aleatoric_error=4.440892098500626e-16\n",
      "Epistemic_error=4.440892098500626e-16\n",
      "KDE_error=array([[8.8817842e-16]])\n",
      "Kernel_error=array([0.])\n",
      "Aleatoric_error=4.440892098500626e-16\n",
      "Epistemic_error=0.0\n",
      "KDE_error=array([[8.8817842e-16]])\n",
      "Kernel_error=array([0.])\n",
      "Aleatoric_error=6.661338147750939e-16\n",
      "Epistemic_error=4.440892098500626e-16\n",
      "KDE_error=array([[8.8817842e-16]])\n",
      "Kernel_error=array([0.])\n",
      "Aleatoric_error=2.220446049250313e-16\n",
      "Epistemic_error=0.0\n",
      "KDE_error=array([[8.8817842e-16]])\n",
      "Kernel_error=array([0.])\n",
      "Aleatoric_error=6.661338147750939e-16\n",
      "Epistemic_error=0.0\n",
      "KDE_error=array([[8.8817842e-16]])\n",
      "Kernel_error=array([0.])\n",
      "Aleatoric_error=5.551115123125783e-16\n",
      "Epistemic_error=4.440892098500626e-16\n",
      "KDE_error=array([[8.8817842e-16]])\n",
      "Kernel_error=array([0.])\n",
      "Aleatoric_error=2.220446049250313e-16\n",
      "Epistemic_error=4.440892098500626e-16\n",
      "KDE_error=array([[8.8817842e-16]])\n",
      "Kernel_error=array([0.])\n",
      "Aleatoric_error=3.3306690738754696e-16\n",
      "Epistemic_error=8.881784197001252e-16\n",
      "KDE_error=array([[8.8817842e-16]])\n",
      "Kernel_error=array([0.])\n",
      "Aleatoric_error=4.440892098500626e-16\n",
      "Epistemic_error=4.440892098500626e-16\n",
      "KDE_error=array([[8.8817842e-16]])\n",
      "Kernel_error=array([0.])\n",
      "Aleatoric_error=6.661338147750939e-16\n",
      "Epistemic_error=8.881784197001252e-16\n",
      "KDE_error=array([[8.8817842e-16]])\n",
      "Kernel_error=array([0.])\n",
      "Aleatoric_error=5.551115123125783e-16\n",
      "Epistemic_error=4.440892098500626e-16\n",
      "KDE_error=array([[8.8817842e-16]])\n",
      "Kernel_error=array([0.])\n",
      "Aleatoric_error=3.3306690738754696e-16\n",
      "Epistemic_error=4.440892098500626e-16\n",
      "KDE_error=array([[8.8817842e-16]])\n",
      "Kernel_error=array([0.])\n",
      "Aleatoric_error=3.3306690738754696e-16\n",
      "Epistemic_error=4.440892098500626e-16\n",
      "KDE_error=array([[8.8817842e-16]])\n",
      "Kernel_error=array([0.])\n",
      "Aleatoric_error=2.220446049250313e-16\n",
      "Epistemic_error=4.440892098500626e-16\n",
      "KDE_error=array([[8.8817842e-16]])\n",
      "Kernel_error=array([0.])\n",
      "Aleatoric_error=4.440892098500626e-16\n",
      "Epistemic_error=8.881784197001252e-16\n",
      "KDE_error=array([[8.8817842e-16]])\n",
      "Kernel_error=array([0.])\n",
      "Aleatoric_error=4.440892098500626e-16\n",
      "Epistemic_error=4.440892098500626e-16\n",
      "KDE_error=array([[8.8817842e-16]])\n",
      "Kernel_error=array([0.])\n",
      "Aleatoric_error=7.771561172376096e-16\n",
      "Epistemic_error=4.440892098500626e-16\n",
      "KDE_error=array([[8.8817842e-16]])\n",
      "Kernel_error=array([0.])\n",
      "Aleatoric_error=3.3306690738754696e-16\n",
      "Epistemic_error=4.440892098500626e-16\n",
      "KDE_error=array([[8.8817842e-16]])\n",
      "Kernel_error=array([0.])\n",
      "Aleatoric_error=4.440892098500626e-16\n",
      "Epistemic_error=4.440892098500626e-16\n",
      "KDE_error=array([[8.8817842e-16]])\n",
      "Kernel_error=array([0.])\n",
      "Aleatoric_error=3.3306690738754696e-16\n",
      "Epistemic_error=4.440892098500626e-16\n",
      "KDE_error=array([[8.8817842e-16]])\n",
      "Kernel_error=array([0.])\n",
      "Aleatoric_error=7.771561172376096e-16\n",
      "Epistemic_error=4.440892098500626e-16\n",
      "KDE_error=array([[8.8817842e-16]])\n",
      "Kernel_error=array([0.])\n",
      "Aleatoric_error=4.440892098500626e-16\n",
      "Epistemic_error=4.440892098500626e-16\n",
      "KDE_error=array([[8.8817842e-16]])\n",
      "Kernel_error=array([0.])\n",
      "Aleatoric_error=5.551115123125783e-16\n",
      "Epistemic_error=8.881784197001252e-16\n",
      "KDE_error=array([[8.8817842e-16]])\n",
      "Kernel_error=array([0.])\n",
      "Aleatoric_error=3.3306690738754696e-16\n",
      "Epistemic_error=4.440892098500626e-16\n",
      "KDE_error=array([[8.8817842e-16]])\n",
      "Kernel_error=array([0.])\n",
      "Aleatoric_error=4.440892098500626e-16\n",
      "Epistemic_error=4.440892098500626e-16\n",
      "KDE_error=array([[8.8817842e-16]])\n",
      "Kernel_error=array([0.])\n",
      "Aleatoric_error=2.220446049250313e-16\n",
      "Epistemic_error=4.440892098500626e-16\n",
      "KDE_error=array([[8.8817842e-16]])\n",
      "Kernel_error=array([0.])\n",
      "Aleatoric_error=3.3306690738754696e-16\n",
      "Epistemic_error=4.440892098500626e-16\n",
      "KDE_error=array([[8.8817842e-16]])\n",
      "Kernel_error=array([0.])\n",
      "Aleatoric_error=5.551115123125783e-16\n",
      "Epistemic_error=8.881784197001252e-16\n",
      "KDE_error=array([[8.8817842e-16]])\n",
      "Kernel_error=array([0.])\n",
      "Aleatoric_error=4.440892098500626e-16\n",
      "Epistemic_error=4.440892098500626e-16\n",
      "KDE_error=array([[8.8817842e-16]])\n",
      "Kernel_error=array([0.])\n",
      "Aleatoric_error=3.3306690738754696e-16\n",
      "Epistemic_error=8.881784197001252e-16\n",
      "KDE_error=array([[8.8817842e-16]])\n",
      "Kernel_error=array([0.])\n",
      "Aleatoric_error=2.220446049250313e-16\n",
      "Epistemic_error=4.440892098500626e-16\n",
      "KDE_error=array([[8.8817842e-16]])\n",
      "Kernel_error=array([0.])\n",
      "Aleatoric_error=5.551115123125783e-16\n",
      "Epistemic_error=4.440892098500626e-16\n",
      "KDE_error=array([[8.8817842e-16]])\n",
      "Kernel_error=array([0.])\n",
      "Aleatoric_error=6.661338147750939e-16\n",
      "Epistemic_error=0.0\n",
      "KDE_error=array([[8.8817842e-16]])\n",
      "Kernel_error=array([0.])\n",
      "Aleatoric_error=2.220446049250313e-16\n",
      "Epistemic_error=0.0\n",
      "KDE_error=array([[8.8817842e-16]])\n",
      "Kernel_error=array([0.])\n",
      "Aleatoric_error=6.661338147750939e-16\n",
      "Epistemic_error=4.440892098500626e-16\n",
      "KDE_error=array([[8.8817842e-16]])\n",
      "Kernel_error=array([0.])\n",
      "Aleatoric_error=4.440892098500626e-16\n",
      "Epistemic_error=0.0\n",
      "KDE_error=array([[8.8817842e-16]])\n",
      "Kernel_error=array([0.])\n",
      "Aleatoric_error=6.661338147750939e-16\n",
      "Epistemic_error=4.440892098500626e-16\n",
      "KDE_error=array([[8.8817842e-16]])\n",
      "Kernel_error=array([0.])\n",
      "Aleatoric_error=2.220446049250313e-16\n",
      "Epistemic_error=8.881784197001252e-16\n",
      "KDE_error=array([[8.8817842e-16]])\n",
      "Kernel_error=array([0.])\n",
      "Aleatoric_error=4.440892098500626e-16\n",
      "Epistemic_error=8.881784197001252e-16\n",
      "KDE_error=array([[8.8817842e-16]])\n",
      "Kernel_error=array([0.])\n",
      "Aleatoric_error=4.440892098500626e-16\n",
      "Epistemic_error=4.440892098500626e-16\n",
      "KDE_error=array([[8.8817842e-16]])\n",
      "Kernel_error=array([0.])\n",
      "Aleatoric_error=2.220446049250313e-16\n",
      "Epistemic_error=4.440892098500626e-16\n",
      "KDE_error=array([[8.8817842e-16]])\n",
      "Kernel_error=array([0.])\n",
      "Aleatoric_error=4.440892098500626e-16\n",
      "Epistemic_error=4.440892098500626e-16\n",
      "KDE_error=array([[8.8817842e-16]])\n",
      "Kernel_error=array([0.])\n",
      "Aleatoric_error=2.220446049250313e-16\n",
      "Epistemic_error=4.440892098500626e-16\n",
      "KDE_error=array([[8.8817842e-16]])\n",
      "Kernel_error=array([0.])\n",
      "Aleatoric_error=2.220446049250313e-16\n",
      "Epistemic_error=4.440892098500626e-16\n",
      "KDE_error=array([[8.8817842e-16]])\n",
      "Kernel_error=array([0.])\n",
      "Aleatoric_error=2.220446049250313e-16\n",
      "Epistemic_error=0.0\n",
      "KDE_error=array([[8.8817842e-16]])\n",
      "Kernel_error=array([0.])\n",
      "Aleatoric_error=0.0\n",
      "Epistemic_error=4.440892098500626e-16\n",
      "KDE_error=array([[8.8817842e-16]])\n",
      "Kernel_error=array([0.])\n",
      "Aleatoric_error=4.440892098500626e-16\n",
      "Epistemic_error=4.440892098500626e-16\n",
      "KDE_error=array([[8.8817842e-16]])\n",
      "Kernel_error=array([0.])\n",
      "Aleatoric_error=4.440892098500626e-16\n",
      "Epistemic_error=4.440892098500626e-16\n",
      "KDE_error=array([[8.8817842e-16]])\n",
      "Kernel_error=array([0.])\n",
      "Aleatoric_error=4.440892098500626e-16\n",
      "Epistemic_error=4.440892098500626e-16\n",
      "KDE_error=array([[8.8817842e-16]])\n",
      "Kernel_error=array([0.])\n",
      "Aleatoric_error=6.661338147750939e-16\n",
      "Epistemic_error=8.881784197001252e-16\n",
      "KDE_error=array([[8.8817842e-16]])\n",
      "Kernel_error=array([0.])\n",
      "Aleatoric_error=2.220446049250313e-16\n",
      "Epistemic_error=4.440892098500626e-16\n",
      "KDE_error=array([[8.8817842e-16]])\n",
      "Kernel_error=array([0.])\n",
      "Aleatoric_error=6.661338147750939e-16\n",
      "Epistemic_error=0.0\n",
      "KDE_error=array([[8.8817842e-16]])\n",
      "Kernel_error=array([0.])\n",
      "Aleatoric_error=0.0\n",
      "Epistemic_error=4.440892098500626e-16\n",
      "KDE_error=array([[8.8817842e-16]])\n",
      "Kernel_error=array([0.])\n",
      "Aleatoric_error=6.661338147750939e-16\n",
      "Epistemic_error=0.0\n",
      "KDE_error=array([[8.8817842e-16]])\n",
      "Kernel_error=array([0.])\n",
      "Aleatoric_error=6.661338147750939e-16\n",
      "Epistemic_error=4.440892098500626e-16\n",
      "KDE_error=array([[8.8817842e-16]])\n",
      "Kernel_error=array([0.])\n",
      "Aleatoric_error=4.440892098500626e-16\n",
      "Epistemic_error=0.0\n",
      "KDE_error=array([[8.8817842e-16]])\n",
      "Kernel_error=array([0.])\n",
      "Aleatoric_error=4.440892098500626e-16\n",
      "Epistemic_error=4.440892098500626e-16\n",
      "KDE_error=array([[8.8817842e-16]])\n",
      "Kernel_error=array([0.])\n",
      "Aleatoric_error=0.0\n",
      "Epistemic_error=4.440892098500626e-16\n",
      "KDE_error=array([[8.8817842e-16]])\n",
      "Kernel_error=array([0.])\n",
      "Aleatoric_error=0.0\n",
      "Epistemic_error=0.0\n",
      "KDE_error=array([[8.8817842e-16]])\n",
      "Kernel_error=array([0.])\n",
      "Aleatoric_error=0.0\n",
      "Epistemic_error=4.440892098500626e-16\n",
      "KDE_error=array([[8.8817842e-16]])\n",
      "Kernel_error=array([0.])\n",
      "Aleatoric_error=0.0\n",
      "Epistemic_error=0.0\n",
      "KDE_error=array([[8.8817842e-16]])\n",
      "Kernel_error=array([0.])\n",
      "Aleatoric_error=4.440892098500626e-16\n",
      "Epistemic_error=4.440892098500626e-16\n",
      "KDE_error=array([[8.8817842e-16]])\n",
      "Kernel_error=array([0.])\n",
      "Aleatoric_error=8.881784197001252e-16\n",
      "Epistemic_error=0.0\n",
      "KDE_error=array([[8.8817842e-16]])\n",
      "Kernel_error=array([0.])\n",
      "Aleatoric_error=1.3322676295501878e-15\n",
      "Epistemic_error=4.440892098500626e-16\n",
      "KDE_error=array([[8.8817842e-16]])\n",
      "Kernel_error=array([0.])\n",
      "Aleatoric_error=1.3322676295501878e-15\n",
      "Epistemic_error=4.440892098500626e-16\n",
      "KDE_error=array([[8.8817842e-16]])\n",
      "Kernel_error=array([0.])\n",
      "Aleatoric_error=8.881784197001252e-16\n",
      "Epistemic_error=0.0\n",
      "KDE_error=array([[8.8817842e-16]])\n",
      "Kernel_error=array([0.])\n",
      "Aleatoric_error=1.3322676295501878e-15\n",
      "Epistemic_error=4.440892098500626e-16\n",
      "KDE_error=array([[8.8817842e-16]])\n",
      "Kernel_error=array([0.])\n",
      "Aleatoric_error=8.881784197001252e-16\n",
      "Epistemic_error=4.440892098500626e-16\n",
      "KDE_error=array([[8.8817842e-16]])\n",
      "Kernel_error=array([0.])\n",
      "Aleatoric_error=0.0\n",
      "Epistemic_error=8.881784197001252e-16\n"
     ]
    }
   ],
   "source": [
    "y = np.zeros(X.shape[0], dtype='int')\n",
    "\n",
    "dict_of_results = {\n",
    "    'epistemic': [],\n",
    "    'aleatoric': [],\n",
    "    'total': [],\n",
    "    'KDE': [],\n",
    "    'kernel': []\n",
    "}\n",
    "\n",
    "for i in tqdm(range(n_points + 1)):\n",
    "    \n",
    "    if i > 0:\n",
    "        ind = indices[i - 1]\n",
    "        y[ind] = 1\n",
    "    \n",
    "    nuq = NuqClassifier(\n",
    "        kernel_type=kernel,\n",
    "        use_uniform_prior=use_uniform_prior,\n",
    "        method=method,\n",
    "        tune_bandwidth=False,\n",
    "        bandwidth=np.array([h, h])\n",
    "    )\n",
    "    \n",
    "    nuq.fit(X, y)\n",
    "    res = test_circle(nuq_trained=nuq, dim=dim, r=circle_r, i=i)\n",
    "    \n",
    "    dict_of_results['epistemic'].append(res['epistemic'].squeeze())\n",
    "    dict_of_results['aleatoric'].append(res['aleatoric'].squeeze())\n",
    "    dict_of_results['total'].append(res['total'].squeeze())\n",
    "    dict_of_results['KDE'].append(res['kde_pred'].squeeze())\n",
    "    dict_of_results['kernel'].append(res['kernel_output'].squeeze())"
   ]
  },
  {
   "cell_type": "code",
   "execution_count": 17,
   "metadata": {},
   "outputs": [],
   "source": []
  },
  {
   "cell_type": "code",
   "execution_count": 18,
   "metadata": {},
   "outputs": [
    {
     "data": {
      "application/vnd.jupyter.widget-view+json": {
       "model_id": "34d684213bf049bbad749f2d3e03510e",
       "version_major": 2,
       "version_minor": 0
      },
      "text/plain": [
       "Canvas(toolbar=Toolbar(toolitems=[('Home', 'Reset original view', 'home', 'home'), ('Back', 'Back to previous …"
      ]
     },
     "metadata": {},
     "output_type": "display_data"
    }
   ],
   "source": [
    "plt.close()\n",
    "_, ax = plt.subplots(nrows=1, ncols=len(dict_of_results.keys()), sharex=True, figsize=(12, 4))\n",
    "\n",
    "for i, key in enumerate(dict_of_results.keys()):\n",
    "    ax[i].set_title(key)\n",
    "    ax[i].plot(np.arange(n_points + 1), dict_of_results[key])\n",
    "\n",
    "plt.show();"
   ]
  },
  {
   "cell_type": "code",
   "execution_count": null,
   "metadata": {},
   "outputs": [],
   "source": []
  },
  {
   "cell_type": "code",
   "execution_count": null,
   "metadata": {},
   "outputs": [],
   "source": []
  },
  {
   "cell_type": "code",
   "execution_count": null,
   "metadata": {},
   "outputs": [],
   "source": []
  },
  {
   "cell_type": "code",
   "execution_count": 19,
   "metadata": {},
   "outputs": [
    {
     "data": {
      "application/vnd.jupyter.widget-view+json": {
       "model_id": "acdd45a655584c5f9a4d7b297bbd73db",
       "version_major": 2,
       "version_minor": 0
      },
      "text/plain": [
       "  0%|          | 0/6 [00:00<?, ?it/s]"
      ]
     },
     "metadata": {},
     "output_type": "display_data"
    },
    {
     "name": "stdout",
     "output_type": "stream",
     "text": [
      "KDE_error=array([[8.8817842e-16]])\n",
      "Kernel_error=array([0.])\n",
      "Aleatoric_error=0.0\n",
      "Epistemic_error=8.881784197001252e-16\n",
      "KDE_error=array([[8.8817842e-16]])\n",
      "Kernel_error=array([0.])\n",
      "Aleatoric_error=0.0\n",
      "Epistemic_error=8.881784197001252e-16\n",
      "KDE_error=array([[8.8817842e-16]])\n",
      "Kernel_error=array([0.])\n",
      "Aleatoric_error=0.0\n",
      "Epistemic_error=8.881784197001252e-16\n",
      "KDE_error=array([[3.55271368e-15]])\n",
      "Kernel_error=array([0.])\n",
      "Aleatoric_error=0.0\n",
      "Epistemic_error=1.887379141862766e-15\n",
      "KDE_error=array([[1.42108547e-14]])\n",
      "Kernel_error=array([0.])\n",
      "Aleatoric_error=0.0\n",
      "Epistemic_error=7.105427357601002e-15\n",
      "KDE_error=array([[0.]])\n",
      "Kernel_error=array([0.])\n",
      "Aleatoric_error=0.0\n",
      "Epistemic_error=2.842170943040401e-14\n"
     ]
    }
   ],
   "source": [
    "y = np.zeros(X.shape[0], dtype='int')\n",
    "\n",
    "dict_of_results = {\n",
    "    'epistemic': [],\n",
    "    'aleatoric': [],\n",
    "    'total': [],\n",
    "    'KDE': [],\n",
    "    'kernel': []\n",
    "}\n",
    "\n",
    "radii = [1, 5, 10, 20, 50, 100]\n",
    "\n",
    "for r in tqdm(radii):\n",
    "    \n",
    "    X = generate_points_on_circle(n_points=n_points, circle_r=r)\n",
    "    \n",
    "    nuq = NuqClassifier(\n",
    "        kernel_type=kernel,\n",
    "        use_uniform_prior=use_uniform_prior,\n",
    "        method=method,\n",
    "        tune_bandwidth=False,\n",
    "        bandwidth=np.array([h, h])\n",
    "    )\n",
    "    \n",
    "    nuq.fit(X, y)\n",
    "    res = test_circle(nuq_trained=nuq, dim=dim, r=r, i=0)\n",
    "    \n",
    "    dict_of_results['epistemic'].append(res['epistemic'].squeeze())\n",
    "    dict_of_results['aleatoric'].append(res['aleatoric'].squeeze())\n",
    "    dict_of_results['total'].append(res['total'].squeeze())\n",
    "    dict_of_results['KDE'].append(res['kde_pred'].squeeze())\n",
    "    dict_of_results['kernel'].append(res['kernel_output'].squeeze())"
   ]
  },
  {
   "cell_type": "code",
   "execution_count": 20,
   "metadata": {},
   "outputs": [
    {
     "data": {
      "application/vnd.jupyter.widget-view+json": {
       "model_id": "d8df9eab7ef7403d8119034622a76c06",
       "version_major": 2,
       "version_minor": 0
      },
      "text/plain": [
       "Canvas(toolbar=Toolbar(toolitems=[('Home', 'Reset original view', 'home', 'home'), ('Back', 'Back to previous …"
      ]
     },
     "metadata": {},
     "output_type": "display_data"
    }
   ],
   "source": [
    "plt.close()\n",
    "_, ax = plt.subplots(nrows=1, ncols=len(dict_of_results.keys()), sharex=True, figsize=(12, 4))\n",
    "\n",
    "for i, key in enumerate(dict_of_results.keys()):\n",
    "    ax[i].set_title(key)\n",
    "    ax[i].plot(radii, dict_of_results[key])\n",
    "\n",
    "plt.show();"
   ]
  },
  {
   "cell_type": "code",
   "execution_count": null,
   "metadata": {},
   "outputs": [],
   "source": []
  },
  {
   "cell_type": "code",
   "execution_count": null,
   "metadata": {},
   "outputs": [],
   "source": []
  },
  {
   "cell_type": "code",
   "execution_count": null,
   "metadata": {},
   "outputs": [],
   "source": []
  },
  {
   "cell_type": "markdown",
   "metadata": {},
   "source": [
    "## Test bandwidth selection"
   ]
  },
  {
   "cell_type": "code",
   "execution_count": 21,
   "metadata": {},
   "outputs": [],
   "source": [
    "import torch"
   ]
  },
  {
   "cell_type": "code",
   "execution_count": 22,
   "metadata": {},
   "outputs": [],
   "source": [
    "covariance = torch.tensor([[1., 0.99], [0.99, 1.]])\n",
    "mean1 = torch.tensor([-3., 0.])\n",
    "mean2 = torch.tensor([0., 0.])\n",
    "mean3 = torch.tensor([3., 0.])"
   ]
  },
  {
   "cell_type": "code",
   "execution_count": 23,
   "metadata": {},
   "outputs": [],
   "source": [
    "samples1 = torch.distributions.MultivariateNormal(loc=mean1, covariance_matrix=covariance).sample((1000, ))\n",
    "y_1 = np.ones(1000, dtype=int)\n",
    "samples2 = torch.distributions.MultivariateNormal(loc=mean2, covariance_matrix=covariance).sample((1000, ))\n",
    "y_2 = np.ones(1000, dtype=int) + 1\n",
    "samples3 = torch.distributions.MultivariateNormal(loc=mean3, covariance_matrix=covariance).sample((1000, ))\n",
    "y_3 = np.ones(1000, dtype=int) + 2"
   ]
  },
  {
   "cell_type": "code",
   "execution_count": 24,
   "metadata": {},
   "outputs": [],
   "source": [
    "samples = torch.cat([samples1, samples2, samples3], dim=0).numpy()\n",
    "y = np.concatenate([y_1, y_2, y_3])"
   ]
  },
  {
   "cell_type": "code",
   "execution_count": null,
   "metadata": {},
   "outputs": [],
   "source": []
  },
  {
   "cell_type": "code",
   "execution_count": 25,
   "metadata": {},
   "outputs": [],
   "source": [
    "nuq_toy = NuqClassifier(\n",
    "    kernel_type='RBF',\n",
    "    method='hnsw',\n",
    "    n_neighbors=20,\n",
    "    coeff=0.0001,\n",
    "    tune_bandwidth=True,\n",
    "    strategy='classification',\n",
    "    bandwidth=np.array([1.]),\n",
    "    precise_computation=True,\n",
    "    use_centroids=False,\n",
    "    use_uniform_prior=True,\n",
    ")"
   ]
  },
  {
   "cell_type": "code",
   "execution_count": null,
   "metadata": {},
   "outputs": [],
   "source": []
  },
  {
   "cell_type": "code",
   "execution_count": 26,
   "metadata": {},
   "outputs": [],
   "source": [
    "import seaborn as sns\n",
    "import pandas as pd"
   ]
  },
  {
   "cell_type": "code",
   "execution_count": 27,
   "metadata": {},
   "outputs": [
    {
     "data": {
      "application/vnd.jupyter.widget-view+json": {
       "model_id": "15e948741cca4135817107d23a7f7fce",
       "version_major": 2,
       "version_minor": 0
      },
      "text/plain": [
       "Canvas(toolbar=Toolbar(toolitems=[('Home', 'Reset original view', 'home', 'home'), ('Back', 'Back to previous …"
      ]
     },
     "metadata": {},
     "output_type": "display_data"
    }
   ],
   "source": [
    "plt.close()\n",
    "\n",
    "# plt.scatter(samples[:, 0], samples[:, 1])\n",
    "sns.jointplot(x=samples[:, 0], y=samples[:, 1])\n",
    "plt.axis('equal')\n",
    "\n",
    "plt.show();"
   ]
  },
  {
   "cell_type": "code",
   "execution_count": 28,
   "metadata": {},
   "outputs": [],
   "source": [
    "samples_x = samples[:, 0][..., None]\n",
    "samples_y = samples[:, 1][..., None]"
   ]
  },
  {
   "cell_type": "code",
   "execution_count": 29,
   "metadata": {},
   "outputs": [],
   "source": [
    "from KDEpy.bw_selection import improved_sheather_jones, silvermans_rule, scotts_rule"
   ]
  },
  {
   "cell_type": "code",
   "execution_count": null,
   "metadata": {},
   "outputs": [],
   "source": []
  },
  {
   "cell_type": "code",
   "execution_count": 30,
   "metadata": {},
   "outputs": [
    {
     "name": "stdout",
     "output_type": "stream",
     "text": [
      "mean distance = [0.         0.00284421 0.00464653 0.00706049 0.00980973 0.01168261\n",
      " 0.01422034 0.01591131 0.01787769 0.01988229 0.02206825 0.02412787\n",
      " 0.02588523 0.02803879 0.03009396 0.03189409 0.03368265 0.03598214\n",
      " 0.03797555 0.03989822]\n",
      "0.03189408779144287\n",
      "Best accuracy  0.996\n"
     ]
    },
    {
     "data": {
      "text/plain": [
       "NuqClassifier(bandwidth=array(0.03189409, dtype=float32),\n",
       "              strategy='classification')"
      ]
     },
     "execution_count": 30,
     "metadata": {},
     "output_type": "execute_result"
    }
   ],
   "source": [
    "nuq_toy.fit(samples, y)"
   ]
  },
  {
   "cell_type": "code",
   "execution_count": 36,
   "metadata": {},
   "outputs": [
    {
     "data": {
      "text/plain": [
       "array(0.03189409, dtype=float32)"
      ]
     },
     "execution_count": 36,
     "metadata": {},
     "output_type": "execute_result"
    }
   ],
   "source": [
    "x_band = nuq_toy.bandwidth.squeeze()#silvermans_rule(samples_x)\n",
    "x_band"
   ]
  },
  {
   "cell_type": "code",
   "execution_count": 37,
   "metadata": {},
   "outputs": [
    {
     "data": {
      "text/plain": [
       "array(0.03189409, dtype=float32)"
      ]
     },
     "execution_count": 37,
     "metadata": {},
     "output_type": "execute_result"
    }
   ],
   "source": [
    "y_band = nuq_toy.bandwidth.squeeze() #silvermans_rule(samples_y)\n",
    "y_band"
   ]
  },
  {
   "cell_type": "code",
   "execution_count": 38,
   "metadata": {},
   "outputs": [
    {
     "data": {
      "application/vnd.jupyter.widget-view+json": {
       "model_id": "f782bfe3efe3428d88935d70676b79f8",
       "version_major": 2,
       "version_minor": 0
      },
      "text/plain": [
       "Canvas(toolbar=Toolbar(toolitems=[('Home', 'Reset original view', 'home', 'home'), ('Back', 'Back to previous …"
      ]
     },
     "metadata": {},
     "output_type": "display_data"
    }
   ],
   "source": [
    "plt.close()\n",
    "\n",
    "plt.scatter(samples_x, samples_y)\n",
    "plt.plot([-1, -1 + x_band], [0, 0], marker = 'o', color='black')\n",
    "plt.plot([0, 0], [-1, -1 + y_band], marker = 'o', color='red')\n",
    "plt.axis('equal')\n",
    "\n",
    "plt.show();"
   ]
  },
  {
   "cell_type": "code",
   "execution_count": null,
   "metadata": {},
   "outputs": [],
   "source": []
  },
  {
   "cell_type": "code",
   "execution_count": null,
   "metadata": {},
   "outputs": [],
   "source": []
  }
 ],
 "metadata": {
  "kernelspec": {
   "display_name": "Condatorch",
   "language": "python",
   "name": "condatorch"
  },
  "language_info": {
   "codemirror_mode": {
    "name": "ipython",
    "version": 3
   },
   "file_extension": ".py",
   "mimetype": "text/x-python",
   "name": "python",
   "nbconvert_exporter": "python",
   "pygments_lexer": "ipython3",
   "version": "3.8.6"
  }
 },
 "nbformat": 4,
 "nbformat_minor": 4
}
