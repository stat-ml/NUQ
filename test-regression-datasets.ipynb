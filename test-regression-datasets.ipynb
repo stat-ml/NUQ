{
 "cells": [
  {
   "cell_type": "markdown",
   "metadata": {},
   "source": [
    "## Uncertainty estimation for regression"
   ]
  },
  {
   "cell_type": "code",
   "execution_count": 1,
   "metadata": {},
   "outputs": [],
   "source": [
    "%load_ext autoreload\n",
    "%autoreload 2\n",
    "import numpy as np\n",
    "import torch\n",
    "from torch import nn\n",
    "from torch.utils.data import TensorDataset, DataLoader\n",
    "import torch.nn.functional as F\n",
    "\n",
    "from sklearn.metrics import accuracy_score\n",
    "import matplotlib.pyplot as plt\n",
    "from sklearn import metrics\n",
    "\n",
    "from alpaca.utils.datasets.builder import build_dataset\n",
    "from alpaca.utils.ue_metrics import get_uq_metrics, ndcg, uq_ll\n",
    "from alpaca.ue.masks import BasicBernoulliMask, DecorrelationMask, LeverageScoreMask\n",
    "from alpaca.utils import model_builder\n",
    "import alpaca.nn as ann\n",
    "\n",
    "from nuq import NuqRegressor"
   ]
  },
  {
   "cell_type": "code",
   "execution_count": 2,
   "metadata": {},
   "outputs": [
    {
     "name": "stdout",
     "output_type": "stream",
     "text": [
      "====================================================================================\n",
      "red_wine\n",
      "Mean squared error:  0.6579511772658864\n",
      "Uncertainty quality by \n",
      "accuracy:  0.125 \n",
      "ndcg:  0.23796303677132144 \n",
      "log-likelihood:  -16815303530.432201\n",
      "====================================================================================\n",
      "====================================================================================\n",
      "kin8nm\n",
      "Mean squared error:  0.016264685238861175\n",
      "Uncertainty quality by \n",
      "accuracy:  0.04878048780487805 \n",
      "ndcg:  0.1801923825519764 \n",
      "log-likelihood:  -4.495082825678347\n",
      "====================================================================================\n",
      "====================================================================================\n",
      "concrete\n",
      "Mean squared error:  58.66329340190997\n",
      "Uncertainty quality by \n",
      "accuracy:  0.2 \n",
      "ndcg:  0.18455449989700945 \n",
      "log-likelihood:  -4.67850019953174\n",
      "====================================================================================\n",
      "====================================================================================\n",
      "ccpp\n",
      "Mean squared error:  18.38311967807019\n",
      "Uncertainty quality by \n",
      "accuracy:  0.10526315789473684 \n",
      "ndcg:  0.22586763243253938 \n",
      "log-likelihood:  -51.19594847037606\n",
      "====================================================================================\n"
     ]
    }
   ],
   "source": [
    "datasets = [\"red_wine\", \"kin8nm\", \"concrete\" , \"ccpp\"]#, \"boston_housing\", \"naval_propulsion\"]\n",
    "for dataset_name in datasets:\n",
    "    dataset = build_dataset(dataset_name, val_split=0.1)\n",
    "    x_train, y_train = dataset.dataset('train')\n",
    "    x_val, y_val = dataset.dataset('val')\n",
    "    \n",
    "    regressor = NuqRegressor()\n",
    "    regressor.fit(x_train, y_train.reshape(-1))\n",
    "    \n",
    "    uncertainty = regressor.predict_uncertainty(x_val, infinity=100)\n",
    "    predictions = regressor.predict(x_val)\n",
    "    \n",
    "    del regressor\n",
    "    \n",
    "    acc, ndcg, ll = get_uq_metrics(uncertainty[\"total\"], predictions)\n",
    "    print(\"====================================================================================\")\n",
    "    print(dataset_name)\n",
    "    print(\"Mean squared error: \", metrics.mean_squared_error(y_val, predictions))\n",
    "    print(\"Uncertainty quality by \\naccuracy: \", acc, \"\\nndcg: \", ndcg, \"\\nlog-likelihood: \", ll)\n",
    "    print(\"====================================================================================\")"
   ]
  },
  {
   "cell_type": "code",
   "execution_count": null,
   "metadata": {},
   "outputs": [],
   "source": []
  }
 ],
 "metadata": {
  "colab": {
   "collapsed_sections": [],
   "name": "nuq_testing.ipynb",
   "provenance": []
  },
  "kernelspec": {
   "display_name": "Python 3",
   "language": "python",
   "name": "python3"
  },
  "language_info": {
   "codemirror_mode": {
    "name": "ipython",
    "version": 3
   },
   "file_extension": ".py",
   "mimetype": "text/x-python",
   "name": "python",
   "nbconvert_exporter": "python",
   "pygments_lexer": "ipython3",
   "version": "3.8.8"
  }
 },
 "nbformat": 4,
 "nbformat_minor": 4
}
