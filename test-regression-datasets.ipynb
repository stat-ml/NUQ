{
 "cells": [
  {
   "cell_type": "markdown",
   "metadata": {},
   "source": [
    "## Uncertainty estimation for regression"
   ]
  },
  {
   "cell_type": "code",
   "execution_count": 1,
   "metadata": {},
   "outputs": [],
   "source": [
    "%load_ext autoreload\n",
    "%autoreload 2\n",
    "import numpy as np\n",
    "import torch\n",
    "from torch import nn\n",
    "from torch.utils.data import TensorDataset, DataLoader\n",
    "import torch.nn.functional as F\n",
    "\n",
    "from sklearn.metrics import accuracy_score\n",
    "import matplotlib.pyplot as plt\n",
    "from sklearn import metrics\n",
    "\n",
    "from alpaca.utils.datasets.builder import build_dataset\n",
    "from alpaca.utils.ue_metrics import get_uq_metrics, ndcg, uq_ll\n",
    "from alpaca.ue.masks import BasicBernoulliMask, DecorrelationMask, LeverageScoreMask\n",
    "from alpaca.utils import model_builder\n",
    "import alpaca.nn as ann\n",
    "\n",
    "from nuq import NuqRegressor"
   ]
  },
  {
   "cell_type": "code",
   "execution_count": 2,
   "metadata": {},
   "outputs": [],
   "source": [
    "class MLP(nn.Module):\n",
    "    def __init__(self, input_size, base_size=64, dropout_rate=0., dropout_mask=None):\n",
    "        super().__init__()\n",
    "        self.backbone = nn.Sequential(\n",
    "            nn.Linear(input_size, 4*base_size),\n",
    "            nn.CELU(),\n",
    "\n",
    "            nn.Linear(4*base_size, 2*base_size),\n",
    "            ann.Dropout(dropout_rate, dropout_mask),\n",
    "            nn.CELU(),\n",
    "\n",
    "            nn.Linear(2*base_size, 1*base_size),\n",
    "            ann.Dropout(dropout_rate, dropout_mask),\n",
    "            nn.CELU(),\n",
    "        )\n",
    "        self.final_layer = nn.Linear(base_size, 1)\n",
    "        \n",
    "\n",
    "    def forward(self, x):\n",
    "        return self.final_layer(self.backbone(x))\n",
    "    \n",
    "    def get_embeddings(self, x):\n",
    "        return self.backbone(x)"
   ]
  },
  {
   "cell_type": "code",
   "execution_count": 3,
   "metadata": {},
   "outputs": [],
   "source": [
    "def train_model(model, train_loader):\n",
    "    criterion = nn.MSELoss()\n",
    "    optimizer = torch.optim.Adam(model.parameters())\n",
    "\n",
    "    model.train()\n",
    "    for epochs in range(100):\n",
    "        for x_batch, y_batch in train_loader: # Train for one epoch\n",
    "            predictions = model(x_batch)\n",
    "            loss = criterion(predictions, y_batch)\n",
    "            optimizer.zero_grad()\n",
    "            loss.backward()\n",
    "            optimizer.step()\n",
    "\n",
    "    return model"
   ]
  },
  {
   "cell_type": "code",
   "execution_count": 4,
   "metadata": {},
   "outputs": [],
   "source": [
    "def estimate_uncertainty_quality(dataset_name, base_size=64):\n",
    "    dataset = build_dataset(dataset_name, val_split=0.1)\n",
    "    x_train, y_train = dataset.dataset('train')\n",
    "    x_val, y_val = dataset.dataset('val')\n",
    "    print(\"number of features in the dataset: \", x_train.shape[1])\n",
    "    \n",
    "    train_ds = TensorDataset(torch.FloatTensor(x_train), torch.FloatTensor(y_train))\n",
    "    val_ds = TensorDataset(torch.FloatTensor(x_val), torch.FloatTensor(y_val))\n",
    "    train_loader = DataLoader(train_ds, batch_size=512)\n",
    "    val_loader = DataLoader(val_ds, batch_size=512)\n",
    "    \n",
    "    x_train, y_train = torch.FloatTensor(x_train), torch.FloatTensor(y_train)\n",
    "    x_val, y_val = torch.FloatTensor(x_val), torch.FloatTensor(y_val)\n",
    "    \n",
    "    model = MLP(input_size=x_train.shape[1], base_size=base_size, dropout_rate=0.1, dropout_mask=BasicBernoulliMask)\n",
    "    model = train_model(model, train_loader)\n",
    "    model.eval()\n",
    "    \n",
    "    train_embeddings = model.get_embeddings(x_train).detach().cpu().numpy()\n",
    "    val_embeddings = model.get_embeddings(x_val).detach().cpu().numpy()\n",
    "    regressor = NuqRegressor()\n",
    "    print(\"embedding size: \", train_embeddings.shape[1])\n",
    "    regressor.fit(train_embeddings, y_train.reshape(-1))\n",
    "    \n",
    "    uncertainty = regressor.predict_uncertainty(val_embeddings, infinity=100)\n",
    "    net_predictions = model(x_val).detach().cpu().numpy()\n",
    "    \n",
    "    del model\n",
    "    del regressor\n",
    "    \n",
    "    print(uncertainty[\"aleatoric\"].mean(), uncertainty[\"epistemic\"].mean(), uncertainty[\"total\"].mean())\n",
    "    acc, ndcg, ll = get_uq_metrics(uncertainty[\"epistemic\"], net_predictions)\n",
    "    print(\"====================================================================================\")\n",
    "    print(dataset_name)\n",
    "    print(\"Mean squared error: \", metrics.mean_squared_error(y_val, net_predictions))\n",
    "    print(\"Uncertainty quality by \\naccuracy: \", acc, \"\\nndcg: \", ndcg, \"\\nlog-likelihood: \", ll)\n",
    "    print(\"====================================================================================\")"
   ]
  },
  {
   "cell_type": "code",
   "execution_count": 5,
   "metadata": {},
   "outputs": [
    {
     "name": "stdout",
     "output_type": "stream",
     "text": [
      "number of features in the dataset:  11\n",
      "embedding size:  64\n",
      "0.3015627122014702 100.0 100.0\n",
      "====================================================================================\n",
      "red_wine\n",
      "Mean squared error:  0.5453714\n",
      "Uncertainty quality by \n",
      "accuracy:  0.1875 \n",
      "ndcg:  0.16359908794695535 \n",
      "log-likelihood:  -4.606755529666094\n",
      "====================================================================================\n"
     ]
    }
   ],
   "source": [
    "datasets = [\"red_wine\", \"kin8nm\", \"ccpp\", \"boston_housing\", \"narval_propulsion\"]\n",
    "estimate_uncertainty_quality(\"red_wine\")"
   ]
  },
  {
   "cell_type": "code",
   "execution_count": null,
   "metadata": {},
   "outputs": [],
   "source": []
  }
 ],
 "metadata": {
  "colab": {
   "collapsed_sections": [],
   "name": "nuq_testing.ipynb",
   "provenance": []
  },
  "kernelspec": {
   "display_name": "Python 3",
   "language": "python",
   "name": "python3"
  },
  "language_info": {
   "codemirror_mode": {
    "name": "ipython",
    "version": 3
   },
   "file_extension": ".py",
   "mimetype": "text/x-python",
   "name": "python",
   "nbconvert_exporter": "python",
   "pygments_lexer": "ipython3",
   "version": "3.8.8"
  }
 },
 "nbformat": 4,
 "nbformat_minor": 4
}
